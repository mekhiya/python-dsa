{
  "nbformat": 4,
  "nbformat_minor": 0,
  "metadata": {
    "colab": {
      "provenance": [],
      "authorship_tag": "ABX9TyNScwz+oIbt8kJ+tgk9csKp",
      "include_colab_link": true
    },
    "kernelspec": {
      "name": "python3",
      "display_name": "Python 3"
    },
    "language_info": {
      "name": "python"
    }
  },
  "cells": [
    {
      "cell_type": "markdown",
      "metadata": {
        "id": "view-in-github",
        "colab_type": "text"
      },
      "source": [
        "<a href=\"https://colab.research.google.com/github/mekhiya/python-dsa/blob/main/codility_dsa.ipynb\" target=\"_parent\"><img src=\"https://colab.research.google.com/assets/colab-badge.svg\" alt=\"Open In Colab\"/></a>"
      ]
    },
    {
      "cell_type": "markdown",
      "source": [
        "A binary gap within a positive integer N is any maximal sequence of consecutive zeros that is surrounded by ones at both ends in the binary representation of N."
      ],
      "metadata": {
        "id": "ePzleBiAi2_8"
      }
    },
    {
      "cell_type": "code",
      "execution_count": null,
      "metadata": {
        "id": "RuuehDKMfO-i"
      },
      "outputs": [],
      "source": [
        "# you can write to stdout for debugging purposes, e.g.\n",
        "# print(\"this is a debug message\")\n",
        "\n",
        "def solution(N):\n",
        "    # start from first position, if next is 0, update count\n",
        "    # once you find 1, update binGap\n",
        "    # new count starts, again update count till find 1\n",
        "    # again found 1, check if count is bigger than binGap\n",
        "    binGap = 0\n",
        "    count = 0\n",
        "    first = True\n",
        "    # convert n to binary\n",
        "    # print(\"start-------\")\n",
        "    s = str(bin(N)[2:])\n",
        "    print(f\"binary format of N is {s}\")\n",
        "    l = [int(x) for x in s]\n",
        "    # print(f\"list is: {l}\")\n",
        "    # for loop assumes 0th position is is 1, starts from 1 position\n",
        "    for i in range(1,len(l)):\n",
        "      print(f'l[i] is {l[i]}')\n",
        "      if l[i] == 1:\n",
        "        # count already started, now look for closer 1\n",
        "        print(f'binGap is {binGap} and count is {count} and first is {first}')\n",
        "        if binGap < count or first:\n",
        "          # new count is bigger than binGap\n",
        "          binGap = count\n",
        "          print(f\"updating binGap to {count}\")\n",
        "          first = False\n",
        "          count = 0\n",
        "      elif l[i] == 0:\n",
        "          count += 1\n",
        "\n",
        "    # print(f\"binGap is {binGap}\")\n",
        "    return binGap"
      ]
    },
    {
      "cell_type": "code",
      "source": [
        "solution(9)"
      ],
      "metadata": {
        "colab": {
          "base_uri": "https://localhost:8080/"
        },
        "id": "E1PcCXyifajC",
        "outputId": "7672f309-500c-4034-c1a9-ad7831cc9b5e"
      },
      "execution_count": null,
      "outputs": [
        {
          "output_type": "stream",
          "name": "stdout",
          "text": [
            "binary format of N is 1001\n",
            "l[i] is 0\n",
            "l[i] is 0\n",
            "l[i] is 1\n",
            "binGap is 0 and count is 2 and first is True\n",
            "updating binGap to 2\n"
          ]
        },
        {
          "output_type": "execute_result",
          "data": {
            "text/plain": [
              "2"
            ]
          },
          "metadata": {},
          "execution_count": 35
        }
      ]
    },
    {
      "cell_type": "code",
      "source": [
        "def solutionSplit(N):\n",
        "  binValue = bin(N)[2:]\n",
        "  print(f\"binValue is {binValue}\")\n",
        "  binValue = binValue.strip('0')\n",
        "  print(f\"binValue is {binValue}\")\n",
        "  binValue = binValue.split('1')\n",
        "  print(f\"binValue is {binValue}\")\n",
        "  binGap = max(len(x) for x in binValue)\n",
        "  return binGap"
      ],
      "metadata": {
        "id": "S45b6sPBffx2"
      },
      "execution_count": null,
      "outputs": []
    },
    {
      "cell_type": "code",
      "source": [
        "solutionSplit(900)"
      ],
      "metadata": {
        "colab": {
          "base_uri": "https://localhost:8080/"
        },
        "id": "NbHNVtapfgyd",
        "outputId": "36ac3488-b288-4ace-abd9-ca0353aa57ef"
      },
      "execution_count": null,
      "outputs": [
        {
          "output_type": "stream",
          "name": "stdout",
          "text": [
            "binValue is 1110000100\n",
            "binValue is 11100001\n",
            "binValue is ['', '', '', '0000', '']\n"
          ]
        },
        {
          "output_type": "execute_result",
          "data": {
            "text/plain": [
              "4"
            ]
          },
          "metadata": {},
          "execution_count": 52
        }
      ]
    },
    {
      "cell_type": "markdown",
      "source": [
        "**OddOccurrencesInArray**\n",
        "A non-empty array A consisting of N integers is given. The array contains an odd number of elements, and each element of the array can be paired with another element that has the same value, except for one element that is left unpaired."
      ],
      "metadata": {
        "id": "g1Z2IXCZjAPL"
      }
    },
    {
      "cell_type": "code",
      "source": [
        "def OddOccurrencesInArray(A):\n",
        "  # Implement your solution here\n",
        "  # print(\"start......\")\n",
        "\n",
        "  single = -1\n",
        "\n",
        "  # print(f\"str(A) is {str(A)}\")\n",
        "  setA = set(A)\n",
        "  # print(f\"setA is {str(setA)}\")\n",
        "  for x in setA:\n",
        "    # print(f\"x is {x} and A.count(x) is {A.count(x)}\")\n",
        "    if A.count(x) % 2 != 0:\n",
        "        single = x\n",
        "        # print(f\"found single {x}\")\n",
        "        break\n",
        "  # print(\"complete......\")\n",
        "  return single"
      ],
      "metadata": {
        "id": "lIpDA0D_fg3e"
      },
      "execution_count": null,
      "outputs": []
    },
    {
      "cell_type": "code",
      "source": [
        "OddOccurrencesInArray([1,1,2,2,3,4,3,1,1])"
      ],
      "metadata": {
        "colab": {
          "base_uri": "https://localhost:8080/"
        },
        "id": "bjCDDVCzkLa9",
        "outputId": "05e6d58d-cc79-4e43-a6b4-1da17033eb78"
      },
      "execution_count": null,
      "outputs": [
        {
          "output_type": "execute_result",
          "data": {
            "text/plain": [
              "4"
            ]
          },
          "metadata": {},
          "execution_count": 2
        }
      ]
    },
    {
      "cell_type": "code",
      "source": [
        "def OddOccurrencesInArrayCounter(A):\n",
        "\n",
        "  #A = [1,1,2,2,3,4,3,1,1]\n",
        "\n",
        "  single = -1\n",
        "\n",
        "  from collections import Counter\n",
        "  counterA = Counter(A)\n",
        "  print(f\"counterA is {counterA}\")\n",
        "\n",
        "  for x in counterA:\n",
        "    # print(counterA[x])\n",
        "    if counterA[x] % 2 != 0:\n",
        "      single = x\n",
        "      break\n",
        "  return single"
      ],
      "metadata": {
        "id": "cueWmFKMkLYj"
      },
      "execution_count": null,
      "outputs": []
    },
    {
      "cell_type": "code",
      "source": [
        "OddOccurrencesInArrayCounter([1,1,2,2,3,4,3,1,1])"
      ],
      "metadata": {
        "colab": {
          "base_uri": "https://localhost:8080/"
        },
        "id": "CDU8-v1FkLVh",
        "outputId": "5ba1577d-647b-483f-a54c-dfecafb3583d"
      },
      "execution_count": null,
      "outputs": [
        {
          "output_type": "stream",
          "name": "stdout",
          "text": [
            "counterA is Counter({1: 4, 2: 2, 3: 2, 4: 1})\n"
          ]
        },
        {
          "output_type": "execute_result",
          "data": {
            "text/plain": [
              "4"
            ]
          },
          "metadata": {},
          "execution_count": 24
        }
      ]
    },
    {
      "cell_type": "code",
      "source": [
        "def Jumpsolution(X, Y, D):\n",
        "  # Implement your solution here\n",
        "  # print(f\"X is {X}, Y is {Y}, D is {D}\")\n",
        "  pendingDist = Y - X\n",
        "  # print(pendingDist)\n",
        "  jumpCount = pendingDist / D\n",
        "  # print(f\"jumpCount is {jumpCount}\")\n",
        "  # print(f\"rounding jumpCount {round(jumpCount)}\")\n",
        "  if jumpCount > round(jumpCount):\n",
        "    jumpCount =  round(jumpCount) + 1\n",
        "  else:\n",
        "    jumpCount =  round(jumpCount)\n",
        "  return jumpCount"
      ],
      "metadata": {
        "id": "TH7jruVJkLS2"
      },
      "execution_count": null,
      "outputs": []
    },
    {
      "cell_type": "code",
      "source": [
        "Jumpsolution(1,10,2.5)"
      ],
      "metadata": {
        "colab": {
          "base_uri": "https://localhost:8080/"
        },
        "id": "fRo3TfNUkK90",
        "outputId": "b7bb69fc-05cd-4a32-9e7b-00eceba78784"
      },
      "execution_count": null,
      "outputs": [
        {
          "output_type": "execute_result",
          "data": {
            "text/plain": [
              "4"
            ]
          },
          "metadata": {},
          "execution_count": 37
        }
      ]
    },
    {
      "cell_type": "code",
      "source": [
        "def findMissingNum1(A, n):\n",
        "  total = (n + 1)*(n + 2)/2\n",
        "  # (7+1)*(7+2) / 2 = 36\n",
        "  sum_of_A = sum(A)\n",
        "  return round(total - sum_of_A)"
      ],
      "metadata": {
        "id": "83i1Ns5NwMVQ"
      },
      "execution_count": null,
      "outputs": []
    },
    {
      "cell_type": "code",
      "source": [
        "A = [1,2,3,4,6,7,8]\n",
        "N = len(A)\n",
        "findMissingNum1(A, N)"
      ],
      "metadata": {
        "colab": {
          "base_uri": "https://localhost:8080/"
        },
        "id": "wikgGpOWwMSC",
        "outputId": "8252afc5-c59b-4934-c1b9-d407c02f5cc0"
      },
      "execution_count": null,
      "outputs": [
        {
          "output_type": "execute_result",
          "data": {
            "text/plain": [
              "5"
            ]
          },
          "metadata": {},
          "execution_count": 44
        }
      ]
    },
    {
      "cell_type": "code",
      "source": [
        "def findMissingNum(A):\n",
        "  # Implement your solution here\n",
        "  # print(f\"A is {str(A)}\")\n",
        "  totalArray = sum(A)\n",
        "  N = len(A)\n",
        "  sumNum = ((N+1)*(N+2))/2\n",
        "  # print(f\"sum is {sumNum} and totalArray is {totalArray}\")\n",
        "  return round(sumNum-totalArray)"
      ],
      "metadata": {
        "id": "4c3F9_-zwMPR"
      },
      "execution_count": null,
      "outputs": []
    },
    {
      "cell_type": "code",
      "source": [
        "findMissingNum(A)"
      ],
      "metadata": {
        "colab": {
          "base_uri": "https://localhost:8080/"
        },
        "id": "DQ_R-msDwMMd",
        "outputId": "00834dbc-eb0c-4760-bf37-f3a2ea197d6e"
      },
      "execution_count": null,
      "outputs": [
        {
          "output_type": "execute_result",
          "data": {
            "text/plain": [
              "5"
            ]
          },
          "metadata": {},
          "execution_count": 46
        }
      ]
    },
    {
      "cell_type": "code",
      "source": [
        "def FindFsolution(A):\n",
        "  # Implement your solution here\n",
        "  print(f\"A is {A}\")\n",
        "  N = len(A)\n",
        "  for P in range(1, N-1):\n",
        "    print(f\"P is {P} & A[P] is {A[P]}\")\n",
        "    first = A.split[1:]\n",
        "    # second = A.split[N-P:]\n",
        "    print(f\"first is {str(first)}\")"
      ],
      "metadata": {
        "id": "S_CGf7rbzY4S"
      },
      "execution_count": null,
      "outputs": []
    },
    {
      "cell_type": "code",
      "source": [
        "FindFsolution([1,2,3,4,5,6])"
      ],
      "metadata": {
        "colab": {
          "base_uri": "https://localhost:8080/",
          "height": 298
        },
        "id": "Foft5RAyzY1X",
        "outputId": "3a0a5a6b-0b75-4bac-d128-08bda76170d4"
      },
      "execution_count": null,
      "outputs": [
        {
          "output_type": "stream",
          "name": "stdout",
          "text": [
            "A is [1, 2, 3, 4, 5, 6]\n",
            "P is 1 & A[P] is 2\n"
          ]
        },
        {
          "output_type": "error",
          "ename": "AttributeError",
          "evalue": "'list' object has no attribute 'split'",
          "traceback": [
            "\u001b[0;31m---------------------------------------------------------------------------\u001b[0m",
            "\u001b[0;31mAttributeError\u001b[0m                            Traceback (most recent call last)",
            "\u001b[0;32m<ipython-input-52-3c7433348190>\u001b[0m in \u001b[0;36m<cell line: 1>\u001b[0;34m()\u001b[0m\n\u001b[0;32m----> 1\u001b[0;31m \u001b[0mFindFsolution\u001b[0m\u001b[0;34m(\u001b[0m\u001b[0;34m[\u001b[0m\u001b[0;36m1\u001b[0m\u001b[0;34m,\u001b[0m\u001b[0;36m2\u001b[0m\u001b[0;34m,\u001b[0m\u001b[0;36m3\u001b[0m\u001b[0;34m,\u001b[0m\u001b[0;36m4\u001b[0m\u001b[0;34m,\u001b[0m\u001b[0;36m5\u001b[0m\u001b[0;34m,\u001b[0m\u001b[0;36m6\u001b[0m\u001b[0;34m]\u001b[0m\u001b[0;34m)\u001b[0m\u001b[0;34m\u001b[0m\u001b[0;34m\u001b[0m\u001b[0m\n\u001b[0m",
            "\u001b[0;32m<ipython-input-51-625d30610eef>\u001b[0m in \u001b[0;36mFindFsolution\u001b[0;34m(A)\u001b[0m\n\u001b[1;32m      5\u001b[0m   \u001b[0;32mfor\u001b[0m \u001b[0mP\u001b[0m \u001b[0;32min\u001b[0m \u001b[0mrange\u001b[0m\u001b[0;34m(\u001b[0m\u001b[0;36m1\u001b[0m\u001b[0;34m,\u001b[0m \u001b[0mN\u001b[0m\u001b[0;34m-\u001b[0m\u001b[0;36m1\u001b[0m\u001b[0;34m)\u001b[0m\u001b[0;34m:\u001b[0m\u001b[0;34m\u001b[0m\u001b[0;34m\u001b[0m\u001b[0m\n\u001b[1;32m      6\u001b[0m     \u001b[0mprint\u001b[0m\u001b[0;34m(\u001b[0m\u001b[0;34mf\"P is {P} & A[P] is {A[P]}\"\u001b[0m\u001b[0;34m)\u001b[0m\u001b[0;34m\u001b[0m\u001b[0;34m\u001b[0m\u001b[0m\n\u001b[0;32m----> 7\u001b[0;31m     \u001b[0mfirst\u001b[0m \u001b[0;34m=\u001b[0m \u001b[0mA\u001b[0m\u001b[0;34m.\u001b[0m\u001b[0msplit\u001b[0m\u001b[0;34m[\u001b[0m\u001b[0;36m1\u001b[0m\u001b[0;34m:\u001b[0m\u001b[0;34m]\u001b[0m\u001b[0;34m\u001b[0m\u001b[0;34m\u001b[0m\u001b[0m\n\u001b[0m\u001b[1;32m      8\u001b[0m     \u001b[0;31m# second = A.split[N-P:]\u001b[0m\u001b[0;34m\u001b[0m\u001b[0;34m\u001b[0m\u001b[0m\n\u001b[1;32m      9\u001b[0m     \u001b[0mprint\u001b[0m\u001b[0;34m(\u001b[0m\u001b[0;34mf\"first is {str(first)}\"\u001b[0m\u001b[0;34m)\u001b[0m\u001b[0;34m\u001b[0m\u001b[0;34m\u001b[0m\u001b[0m\n",
            "\u001b[0;31mAttributeError\u001b[0m: 'list' object has no attribute 'split'"
          ]
        }
      ]
    },
    {
      "cell_type": "code",
      "source": [],
      "metadata": {
        "id": "yiUv3IgPzYyL"
      },
      "execution_count": null,
      "outputs": []
    },
    {
      "cell_type": "markdown",
      "source": [
        "For example, consider array A such that:\n",
        "  A[0] = 3\n",
        "  A[1] = 1\n",
        "  A[2] = 2\n",
        "  A[3] = 4\n",
        "  A[4] = 3\n",
        "\n",
        "We can split this tape in four places:\n",
        "\n",
        "        P = 1, difference = |3 − 10| = 7\n",
        "        P = 2, difference = |4 − 9| = 5\n",
        "        P = 3, difference = |6 − 7| = 1\n",
        "        P = 4, difference = |10 − 3| = 7\n",
        "\n",
        "Write a function:\n",
        "\n",
        "    def solution(A)\n",
        "\n",
        "that, given a non-empty array A of N integers, returns the minimal difference that can be achieved.\n",
        "\n",
        "For example, given:\n",
        "  A[0] = 3\n",
        "  A[1] = 1\n",
        "  A[2] = 2\n",
        "  A[3] = 4\n",
        "  A[4] = 3\n",
        "\n",
        "the function should return 1, as explained above."
      ],
      "metadata": {
        "id": "GFwc4l_29u5A"
      }
    },
    {
      "cell_type": "code",
      "source": [
        "def FindMinSumInList(A):\n",
        "  # Implement your solution here\n",
        "  N = len(A)\n",
        "\n",
        "\n",
        "  difList = []\n",
        "  for P in range(1, N):\n",
        "    dif = sum(A[:P]) - sum(A[P:])\n",
        "    difList.append(abs(dif))\n",
        "\n",
        "  return min(difList)"
      ],
      "metadata": {
        "id": "jWjY9y4ZzYu6"
      },
      "execution_count": null,
      "outputs": []
    },
    {
      "cell_type": "markdown",
      "source": [
        " PermCheck"
      ],
      "metadata": {
        "id": "aIQjFIkKJb_d"
      }
    },
    {
      "cell_type": "code",
      "source": [
        "def  PermCheck(A):\n",
        "  # returns 1 if array A is a permutation and 0 if it is not.\n",
        "  isPermutation = -1\n",
        "  n = len(A)\n",
        "  n -= 1\n",
        "  totalArray = ((n+1)*(n+2))/2\n",
        "  sumOfArray = sum(A)\n",
        "  # print(f\"totalArray is {totalArray} and sumOfArray is {sumOfArray}\")\n",
        "  if round(totalArray) == round(sumOfArray):\n",
        "    isPermutation = 1\n",
        "  else:\n",
        "    isPermutation = 0\n",
        "  # print(isPermutation)\n",
        "  return isPermutation"
      ],
      "metadata": {
        "id": "ksrmWJQ999l5"
      },
      "execution_count": null,
      "outputs": []
    },
    {
      "cell_type": "code",
      "source": [
        "PermCheck([1,4,1])"
      ],
      "metadata": {
        "colab": {
          "base_uri": "https://localhost:8080/"
        },
        "id": "tc5q2j9799jV",
        "outputId": "4fd5fbab-b8f5-40df-89e3-6a1207348abb"
      },
      "execution_count": null,
      "outputs": [
        {
          "output_type": "stream",
          "name": "stdout",
          "text": [
            "totalArray is 6.0 and sumOfArray is 6\n"
          ]
        },
        {
          "output_type": "execute_result",
          "data": {
            "text/plain": [
              "1"
            ]
          },
          "metadata": {},
          "execution_count": 59
        }
      ]
    },
    {
      "cell_type": "markdown",
      "source": [
        "\n",
        "MaxCounters\n",
        "Calculate the values of counters after applying all alternating operations: increase counter by 1; set value of all counters to current maximum."
      ],
      "metadata": {
        "id": "DnUHfwxbrCZI"
      }
    },
    {
      "cell_type": "code",
      "source": [
        "# you can write to stdout for debugging purposes, e.g.\n",
        "# print(\"this is a debug message\")\n",
        "\n",
        "def MaxCounters(N, A):\n",
        "  print(A, N)\n",
        "  # prepare counter\n",
        "  counterList = [0] * N\n",
        "  print(counterList)\n",
        "  maxCounter = 0\n",
        "  print(f\"maxCounter is {maxCounter}\")\n",
        "  for i in range(0, len(A)):\n",
        "    print(f\"A[i] is {A[i]}\")\n",
        "    position = A[i]-1\n",
        "    if position >= N:\n",
        "      print(\"maxCounter applied\")\n",
        "      #counterList = counterList + maxCounter\n",
        "      #  [x+170 for x in original_list]\n",
        "      maxCounter = max(counterList)\n",
        "      counterList = [maxCounter] * N\n",
        "    else:\n",
        "      # increment value at position(A[i])\n",
        "      print(f\"increment at position {position}\")\n",
        "      counterList[position] = counterList[position] + 1\n",
        "    print(counterList)\n",
        "    print('-' * 10)\n",
        "\n",
        "  return counterList\n",
        "\n",
        "'''\n",
        "\n",
        "\n",
        "\t     N[0] N[1] N[2] N[3] N[4]\n",
        "A[0] = 3 \t0\t0\t1\t0\t0\n",
        "A[1] = 4\t0\t0\t1\t1\t0\n",
        "A[2] = 4\t0\t0\t1\t2\t0\n",
        "A[3] = 6\t2\t2\t2\t2\t2\n",
        "A[4] = 1\t3\t2\t2\t2\t2\n",
        "A[5] = 4\t3\t2\t2\t3\t2\n",
        "A[6] = 4\t3\t2\t2\t4\t2\n",
        "\n",
        "\n",
        "\n",
        "for loop i 0 to len(A)\n",
        "for each A element\n",
        "first copy all counters\n",
        "then A[i] value if more than N set all to 2\n",
        "else increment right place\n",
        "\n",
        "'''"
      ],
      "metadata": {
        "id": "x7dGIZaQ99gl",
        "colab": {
          "base_uri": "https://localhost:8080/",
          "height": 70
        },
        "outputId": "86e74645-8e49-46df-d8b6-447f657edff2"
      },
      "execution_count": null,
      "outputs": [
        {
          "output_type": "execute_result",
          "data": {
            "text/plain": [
              "'\\n\\n\\n\\t     N[0] N[1] N[2] N[3] N[4]\\nA[0] = 3 \\t0\\t0\\t1\\t0\\t0\\nA[1] = 4\\t0\\t0\\t1\\t1\\t0\\nA[2] = 4\\t0\\t0\\t1\\t2\\t0\\nA[3] = 6\\t2\\t2\\t2\\t2\\t2\\nA[4] = 1\\t3\\t2\\t2\\t2\\t2\\nA[5] = 4\\t3\\t2\\t2\\t3\\t2\\nA[6] = 4\\t3\\t2\\t2\\t4\\t2\\n\\n\\n\\nfor loop i 0 to len(A)\\nfor each A element\\nfirst copy all counters\\nthen A[i] value if more than N set all to 2\\nelse increment right place \\n\\n'"
            ],
            "application/vnd.google.colaboratory.intrinsic+json": {
              "type": "string"
            }
          },
          "metadata": {},
          "execution_count": 16
        }
      ]
    },
    {
      "cell_type": "code",
      "source": [
        "MaxCounters(5, [6, 6, 6, 6, 6, 6])"
      ],
      "metadata": {
        "colab": {
          "base_uri": "https://localhost:8080/"
        },
        "id": "AltcLEKGuBHC",
        "outputId": "f26d6b76-9f37-408c-89e6-5d63da9f723b"
      },
      "execution_count": null,
      "outputs": [
        {
          "output_type": "stream",
          "name": "stdout",
          "text": [
            "[6, 6, 6, 6, 6, 6] 5\n",
            "[0, 0, 0, 0, 0]\n",
            "maxCounter is 0\n",
            "A[i] is 6\n",
            "maxCounter applied\n",
            "[0, 0, 0, 0, 0]\n",
            "----------\n",
            "A[i] is 6\n",
            "maxCounter applied\n",
            "[0, 0, 0, 0, 0]\n",
            "----------\n",
            "A[i] is 6\n",
            "maxCounter applied\n",
            "[0, 0, 0, 0, 0]\n",
            "----------\n",
            "A[i] is 6\n",
            "maxCounter applied\n",
            "[0, 0, 0, 0, 0]\n",
            "----------\n",
            "A[i] is 6\n",
            "maxCounter applied\n",
            "[0, 0, 0, 0, 0]\n",
            "----------\n",
            "A[i] is 6\n",
            "maxCounter applied\n",
            "[0, 0, 0, 0, 0]\n",
            "----------\n"
          ]
        },
        {
          "output_type": "execute_result",
          "data": {
            "text/plain": [
              "[0, 0, 0, 0, 0]"
            ]
          },
          "metadata": {},
          "execution_count": 17
        }
      ]
    },
    {
      "cell_type": "code",
      "source": [
        "MaxCounters(5, [3,4,4,6,1,4,4])"
      ],
      "metadata": {
        "id": "7Sd2ZZa4KSBf",
        "colab": {
          "base_uri": "https://localhost:8080/"
        },
        "outputId": "f9b72728-5bf9-4a4a-b9f0-76f047db88a5"
      },
      "execution_count": null,
      "outputs": [
        {
          "output_type": "stream",
          "name": "stdout",
          "text": [
            "[3, 4, 4, 6, 1, 4, 4] 5\n",
            "[0, 0, 0, 0, 0]\n",
            "maxCounter is 0\n",
            "A[i] is 3\n",
            "increment at position 2\n",
            "[0, 0, 1, 0, 0]\n",
            "----------\n",
            "A[i] is 4\n",
            "increment at position 3\n",
            "[0, 0, 1, 1, 0]\n",
            "----------\n",
            "A[i] is 4\n",
            "increment at position 3\n",
            "[0, 0, 1, 2, 0]\n",
            "----------\n",
            "A[i] is 6\n",
            "maxCounter applied\n",
            "[2, 2, 2, 2, 2]\n",
            "----------\n",
            "A[i] is 1\n",
            "increment at position 0\n",
            "[3, 2, 2, 2, 2]\n",
            "----------\n",
            "A[i] is 4\n",
            "increment at position 3\n",
            "[3, 2, 2, 3, 2]\n",
            "----------\n",
            "A[i] is 4\n",
            "increment at position 3\n",
            "[3, 2, 2, 4, 2]\n",
            "----------\n"
          ]
        },
        {
          "output_type": "execute_result",
          "data": {
            "text/plain": [
              "[3, 2, 2, 4, 2]"
            ]
          },
          "metadata": {},
          "execution_count": 18
        }
      ]
    },
    {
      "cell_type": "code",
      "source": [
        "MaxCounters(1,[2, 1, 1, 2, 1])"
      ],
      "metadata": {
        "id": "9YFquKIsKR7q",
        "colab": {
          "base_uri": "https://localhost:8080/"
        },
        "outputId": "9ff83e9b-82a0-4be1-eac7-b8fe96db7fb9"
      },
      "execution_count": null,
      "outputs": [
        {
          "output_type": "stream",
          "name": "stdout",
          "text": [
            "[2, 1, 1, 2, 1] 1\n",
            "[0]\n",
            "maxCounter is 0\n",
            "A[i] is 2\n",
            "maxCounter applied\n",
            "[0]\n",
            "----------\n",
            "A[i] is 1\n",
            "increment at position 0\n",
            "[1]\n",
            "----------\n",
            "A[i] is 1\n",
            "increment at position 0\n",
            "[2]\n",
            "----------\n",
            "A[i] is 2\n",
            "maxCounter applied\n",
            "[2]\n",
            "----------\n",
            "A[i] is 1\n",
            "increment at position 0\n",
            "[3]\n",
            "----------\n"
          ]
        },
        {
          "output_type": "execute_result",
          "data": {
            "text/plain": [
              "[3]"
            ]
          },
          "metadata": {},
          "execution_count": 20
        }
      ]
    },
    {
      "cell_type": "code",
      "source": [
        "AList = [2,3,4]\n",
        "BList = AList\n",
        "print(BList)\n",
        "BList = [x+1 for x in BList]\n",
        "print(BList)\n",
        "BList = AList\n",
        "print(BList)"
      ],
      "metadata": {
        "id": "zhTSQei9KR4R",
        "colab": {
          "base_uri": "https://localhost:8080/"
        },
        "outputId": "271f7ae7-730a-4482-a9fd-55e75e39c674"
      },
      "execution_count": null,
      "outputs": [
        {
          "output_type": "stream",
          "name": "stdout",
          "text": [
            "[2, 3, 4]\n",
            "[3, 4, 5]\n",
            "[2, 3, 4]\n"
          ]
        }
      ]
    },
    {
      "cell_type": "code",
      "source": [
        "def maxCounterEffi(N,A):\n",
        "  res = [0] * N\n",
        "  max_val = 0\n",
        "  last_update = 0\n",
        "  n1 = N + 1\n",
        "\n",
        "  for i in A:\n",
        "    print(i)\n",
        "    if i < n1:\n",
        "      if res[i-1] < last_update:\n",
        "        res[i-1] = last_update\n",
        "\n",
        "      res[i-1] += 1\n",
        "\n",
        "      if res[i-1] > max_val:\n",
        "        max_val = res[i-1]\n",
        "\n",
        "    else:\n",
        "      last_update = max_val\n",
        "\n",
        "  for i in range(len(res)):\n",
        "    if res[i] < last_update:\n",
        "      res[i] = last_update\n",
        "\n",
        "  return res"
      ],
      "metadata": {
        "id": "1VPydiNEKRNJ"
      },
      "execution_count": null,
      "outputs": []
    },
    {
      "cell_type": "code",
      "source": [
        "maxCounterEffi(5, [3,4,4,6,1,4,4])"
      ],
      "metadata": {
        "colab": {
          "base_uri": "https://localhost:8080/"
        },
        "id": "pk9xtF0X3caf",
        "outputId": "577d0250-cb7c-410e-eec7-ecf1a7ce9bac"
      },
      "execution_count": null,
      "outputs": [
        {
          "output_type": "stream",
          "name": "stdout",
          "text": [
            "3\n",
            "4\n",
            "4\n",
            "6\n",
            "1\n",
            "4\n",
            "4\n"
          ]
        },
        {
          "output_type": "execute_result",
          "data": {
            "text/plain": [
              "[3, 2, 2, 4, 2]"
            ]
          },
          "metadata": {},
          "execution_count": 32
        }
      ]
    },
    {
      "cell_type": "markdown",
      "source": [],
      "metadata": {
        "id": "VWPs9Dj1ETDC"
      }
    },
    {
      "cell_type": "code",
      "source": [
        "# you can write to stdout for debugging purposes, e.g.\n",
        "# print(\"this is a debug message\")\n",
        "\n",
        "def  MissingInteger(A):\n",
        "    # print(A)\n",
        "    min_val, max_val = min(A), max(A)\n",
        "\n",
        "    # [-3, -2, 0]\n",
        "    if max_val < 1 :\n",
        "        return 1\n",
        "    # [2,3,4,5,8]\n",
        "    if min_val > 1:\n",
        "        return 1\n",
        "    if min_val < 0 and max_val > 1:\n",
        "      return 1\n",
        "\n",
        "    uniqueA = set(A)\n",
        "    setminMax = set(range(min_val, max_val+1))\n",
        "    # print(f\"uniqueA is {uniqueA} and setminMax is {setminMax}\")\n",
        "\n",
        "    # [1,2,3]\n",
        "    if uniqueA == setminMax:\n",
        "        # print(\"sets are same\")\n",
        "        return max_val + 1\n",
        "    else:\n",
        "        # [1,2,4,5]\n",
        "        # print(\"sets are NOT same\")\n",
        "        missing = setminMax.difference(uniqueA)\n",
        "        # print(f\"missing is {missing}\")\n",
        "        return missing.pop()"
      ],
      "metadata": {
        "id": "4Wk4sLdD3c64"
      },
      "execution_count": null,
      "outputs": []
    },
    {
      "cell_type": "code",
      "source": [
        "MissingInteger([-1000000000000,1000000000000])"
      ],
      "metadata": {
        "colab": {
          "base_uri": "https://localhost:8080/"
        },
        "id": "PmjOsa_r3dyp",
        "outputId": "25d1f42b-22b9-4ca0-9a1e-f0778c43afe4"
      },
      "execution_count": null,
      "outputs": [
        {
          "output_type": "execute_result",
          "data": {
            "text/plain": [
              "1"
            ]
          },
          "metadata": {},
          "execution_count": 42
        }
      ]
    },
    {
      "cell_type": "markdown",
      "source": [
        "Passing Cars in Python"
      ],
      "metadata": {
        "id": "1asIO0YIaMRI"
      }
    },
    {
      "cell_type": "code",
      "source": [
        "# you can write to stdout for debugging purposes, e.g.\n",
        "# print(\"this is a debug message\")\n",
        "\n",
        "def PassingCars(A):\n",
        "    # print(A)\n",
        "    crossingCount = 0\n",
        "    for idx in range(0, len(A)):\n",
        "        if A[idx] == 0:\n",
        "            # print(\"found 0\")\n",
        "            # print(f\"A[i+1:] is {A[idx+1:]}\")\n",
        "            # print(f\"sum(A[i+1:]) is {sum(A[idx+1:])}\")\n",
        "            crossingCount += sum(A[idx+1:])\n",
        "            if crossingCount > 1000000000:\n",
        "                return -1\n",
        "        # else:\n",
        "        #     print(\"skipping 1\")\n",
        "    return crossingCount"
      ],
      "metadata": {
        "id": "G-7MJPKu3dvR"
      },
      "execution_count": null,
      "outputs": []
    },
    {
      "cell_type": "code",
      "source": [
        "# you can write to stdout for debugging purposes, e.g.\n",
        "# print(\"this is a debug message\")\n",
        "\n",
        "def PassingCar100(A):\n",
        "  # print(A)\n",
        "  crossingCountE = 0\n",
        "  crossingCount = 0\n",
        "  for idx in range(0, len(A)):\n",
        "    if A[idx] == 0:\n",
        "      crossingCountE += 1\n",
        "    else:\n",
        "      crossingCount += crossingCountE\n",
        "\n",
        "    if crossingCount > 1000000000:\n",
        "      return -1\n",
        "\n",
        "  return crossingCount"
      ],
      "metadata": {
        "id": "_Fs9JS203dsj"
      },
      "execution_count": null,
      "outputs": []
    },
    {
      "cell_type": "markdown",
      "source": [
        "CountDiv"
      ],
      "metadata": {
        "id": "XbSzUNmwfLBX"
      }
    },
    {
      "cell_type": "code",
      "source": [
        "\n",
        "def CountDiv(A, B, K):\n",
        "  count = 0\n",
        "  if A == B and A == 0:\n",
        "    return 1\n",
        "  if A == B and A > K:\n",
        "    return 1\n",
        "\n",
        "  print(0 % 2)\n",
        "  print(f\"A is {A}, B is {B} and K is {K}\")\n",
        "  listNum = list(range(A,B))\n",
        "  print(listNum)\n",
        "  for i in listNum:\n",
        "    if i % K == 0:\n",
        "      count += 1\n",
        "\n",
        "  return count\n",
        "\n"
      ],
      "metadata": {
        "id": "v1MJLOdn3dp1"
      },
      "execution_count": null,
      "outputs": []
    },
    {
      "cell_type": "code",
      "source": [
        "CountDiv(0,14,2)"
      ],
      "metadata": {
        "colab": {
          "base_uri": "https://localhost:8080/"
        },
        "id": "WEJOlTbR3dm-",
        "outputId": "6923b7d1-f268-4d72-d5a7-c6373b41c679"
      },
      "execution_count": null,
      "outputs": [
        {
          "output_type": "stream",
          "name": "stdout",
          "text": [
            "0\n",
            "A is 0, B is 14 and K is 2\n",
            "[0, 1, 2, 3, 4, 5, 6, 7, 8, 9, 10, 11, 12, 13]\n"
          ]
        },
        {
          "output_type": "execute_result",
          "data": {
            "text/plain": [
              "7"
            ]
          },
          "metadata": {},
          "execution_count": 60
        }
      ]
    },
    {
      "cell_type": "code",
      "source": [
        "# you can write to stdout for debugging purposes, e.g.\n",
        "# print(\"this is a debug message\")\n",
        "\n",
        "def GenomicRangeQuery(S, P, Q):\n",
        "  # print(f\"S is {S} and P is {P} and Q is {Q}\")\n",
        "  sList = list(S)\n",
        "  # print(sList)\n",
        "  D = {'A':1, 'C':2, 'G':3, 'T':4}\n",
        "  res = []\n",
        "  for i in range(0, len(P)):\n",
        "    # print(f\"P[i] is {P[i]} - Q[i] is {Q[i]}\")\n",
        "    # print(f\"sList[p,q] is {sList[P[i]: Q[i]+1]}\")\n",
        "    tempList = sList[P[i]: Q[i]+1]\n",
        "    a = [D[x] for x in tempList]\n",
        "    # print(a)\n",
        "    res.append(min(a))\n",
        "    # print('-' * 10)\n",
        "  return res"
      ],
      "metadata": {
        "id": "NnOlnqep3dj_"
      },
      "execution_count": null,
      "outputs": []
    },
    {
      "cell_type": "code",
      "source": [
        "GenomicRangeQuery('CAGCATG', [1,2,3], [2,4,5])"
      ],
      "metadata": {
        "colab": {
          "base_uri": "https://localhost:8080/"
        },
        "id": "NkL0wU5H3dhS",
        "outputId": "d3263d45-5f81-4c45-d630-0556dd3a9119"
      },
      "execution_count": null,
      "outputs": [
        {
          "output_type": "execute_result",
          "data": {
            "text/plain": [
              "[1, 1, 1]"
            ]
          },
          "metadata": {},
          "execution_count": 64
        }
      ]
    },
    {
      "cell_type": "markdown",
      "source": [
        "MinAvgTwoSlice"
      ],
      "metadata": {
        "id": "CqW7ZMPIkw5C"
      }
    },
    {
      "cell_type": "code",
      "source": [
        "# you can write to stdout for debugging purposes, e.g.\n",
        "# print(\"this is a debug message\")\n",
        "\n",
        "def MinAvgTwoSlice(A):\n",
        "  smallest_avg = (A[0] + A[1])/2.0\n",
        "  smallest_idx = 0\n",
        "  for idx in range(0,len(A)-2):\n",
        "    new_avg2 = (A[idx] + A[idx+1])/2.0\n",
        "    # checking 2 elements average\n",
        "    if smallest_avg > new_avg2:\n",
        "      # print(\"smallest_avg > new_avg2:\")\n",
        "      smallest_avg = new_avg2\n",
        "      smallest_idx = idx\n",
        "    new_avg3 = (A[idx] + A[idx+1] + A[idx+2])/3.0\n",
        "    # checking 2 elements average\n",
        "    if smallest_avg > new_avg3:\n",
        "      # print(\"smallest_avg > new_avg3:\")\n",
        "      smallest_avg = new_avg3\n",
        "      smallest_idx = idx\n",
        "  new_avg_last2 = (A[-1]+A[-2])/2.0\n",
        "\n",
        "  if smallest_avg > new_avg_last2:\n",
        "    # print(\"smallest_avg > new_avg_last2:\")\n",
        "    smallest_avg = new_avg_last2\n",
        "    smallest_idx = len(A)-2\n",
        "\n",
        "  return smallest_idx"
      ],
      "metadata": {
        "id": "GQpjlTOd3deT"
      },
      "execution_count": 3,
      "outputs": []
    },
    {
      "cell_type": "code",
      "source": [
        "MinAvgTwoSlice([1,2,4,5,6,7,8,9])"
      ],
      "metadata": {
        "id": "kCobdi1h3dBe",
        "colab": {
          "base_uri": "https://localhost:8080/"
        },
        "outputId": "52e9ead2-c37a-4a3f-cbcb-321e1bdf032d"
      },
      "execution_count": 4,
      "outputs": [
        {
          "output_type": "execute_result",
          "data": {
            "text/plain": [
              "0"
            ]
          },
          "metadata": {},
          "execution_count": 4
        }
      ]
    },
    {
      "cell_type": "markdown",
      "source": [
        "MaxProductOfThree"
      ],
      "metadata": {
        "id": "F9uzFFfz8xCt"
      }
    },
    {
      "cell_type": "code",
      "source": [
        "# you can write to stdout for debugging purposes, e.g.\n",
        "# print(\"this is a debug message\")\n",
        "\n",
        "def MaxProductOfThree(A):\n",
        "    A.sort()\n",
        "    last3_product = A[-1] * A[-2] * A[-3]\n",
        "\n",
        "    first2_last_prod = 0\n",
        "\n",
        "    if A[0] < 0 and A[1] < 0:\n",
        "        first2_last_prod = A[0] * A[1] * A[-1]\n",
        "\n",
        "    return(max(last3_product, first2_last_prod))"
      ],
      "metadata": {
        "id": "5109IHG1lFGI"
      },
      "execution_count": 10,
      "outputs": []
    },
    {
      "cell_type": "code",
      "source": [
        "MaxProductOfThree([-3,-2,0,4,5,6,7])"
      ],
      "metadata": {
        "colab": {
          "base_uri": "https://localhost:8080/"
        },
        "id": "AYA3RsV1lFC6",
        "outputId": "38946761-c830-479d-89c8-55877db192e0"
      },
      "execution_count": 11,
      "outputs": [
        {
          "output_type": "execute_result",
          "data": {
            "text/plain": [
              "210"
            ]
          },
          "metadata": {},
          "execution_count": 11
        }
      ]
    },
    {
      "cell_type": "code",
      "source": [
        "MaxProductOfThree([10,10,10])"
      ],
      "metadata": {
        "colab": {
          "base_uri": "https://localhost:8080/"
        },
        "id": "q2iUqMselE_w",
        "outputId": "1d51fbbe-4941-42b5-e4fa-b0393cb7031b"
      },
      "execution_count": 12,
      "outputs": [
        {
          "output_type": "execute_result",
          "data": {
            "text/plain": [
              "1000"
            ]
          },
          "metadata": {},
          "execution_count": 12
        }
      ]
    },
    {
      "cell_type": "code",
      "source": [
        "'''\n",
        "A[i+2] + A[i+1] > A[i]\n",
        "A[i+2] + A[i] > A[i+1]\n",
        "A[i+1] + A[i] > A[i+2]\n",
        "\n",
        "'''\n",
        "def triangle(A):\n",
        "  A.sort()\n",
        "  for i in range(0,len(A)-2):\n",
        "    if A[i+1] + A[i] > A[i+2]:\n",
        "      return 1\n",
        "  return 0"
      ],
      "metadata": {
        "id": "n1GvmEyXlE8y"
      },
      "execution_count": 14,
      "outputs": []
    },
    {
      "cell_type": "code",
      "source": [
        "triangle([10, 2, 5, 1, 8, 20])"
      ],
      "metadata": {
        "colab": {
          "base_uri": "https://localhost:8080/"
        },
        "id": "DyS8SVPAKphx",
        "outputId": "969d1992-fdea-4efc-ef9e-32461c537540"
      },
      "execution_count": 15,
      "outputs": [
        {
          "output_type": "execute_result",
          "data": {
            "text/plain": [
              "1"
            ]
          },
          "metadata": {},
          "execution_count": 15
        }
      ]
    },
    {
      "cell_type": "code",
      "source": [],
      "metadata": {
        "id": "wXJgtK3bKpeq"
      },
      "execution_count": null,
      "outputs": []
    },
    {
      "cell_type": "code",
      "source": [],
      "metadata": {
        "id": "a7BjRdx_Kpbg"
      },
      "execution_count": null,
      "outputs": []
    },
    {
      "cell_type": "code",
      "source": [],
      "metadata": {
        "id": "BWjAqC3aKpYo"
      },
      "execution_count": null,
      "outputs": []
    },
    {
      "cell_type": "code",
      "source": [],
      "metadata": {
        "id": "NAXajXfiKpNw"
      },
      "execution_count": null,
      "outputs": []
    }
  ]
}