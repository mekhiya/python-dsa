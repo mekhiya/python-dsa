{
  "nbformat": 4,
  "nbformat_minor": 0,
  "metadata": {
    "colab": {
      "provenance": [],
      "authorship_tag": "ABX9TyMhRkQ2dlyFu0pqFbl6sb7V",
      "include_colab_link": true
    },
    "kernelspec": {
      "name": "python3",
      "display_name": "Python 3"
    },
    "language_info": {
      "name": "python"
    }
  },
  "cells": [
    {
      "cell_type": "markdown",
      "metadata": {
        "id": "view-in-github",
        "colab_type": "text"
      },
      "source": [
        "<a href=\"https://colab.research.google.com/github/mekhiya/python-dsa/blob/main/bin_tree_search.ipynb\" target=\"_parent\"><img src=\"https://colab.research.google.com/assets/colab-badge.svg\" alt=\"Open In Colab\"/></a>"
      ]
    },
    {
      "cell_type": "code",
      "execution_count": 31,
      "metadata": {
        "id": "8LjRwHNCL9OU"
      },
      "outputs": [],
      "source": [
        "class User:\n",
        "  def __init__(self, username, name, email):\n",
        "    self.username = username\n",
        "    self.email = email\n",
        "    self.name = name\n",
        "    print(\"User created!\")\n",
        "\n",
        "  def __repr__(self):\n",
        "    return \"User(username='{}', name='{}', email='{}')\".format(self.username, self.name, self.email)\n",
        "\n",
        "  def __str__(self):\n",
        "    return self.__repr__()\n",
        "\n",
        "  def introduce_yourself(self, guest_name):\n",
        "    print(f\"Hello {guest_name} send me email at {self.email}\")\n"
      ]
    },
    {
      "cell_type": "code",
      "source": [
        "user4 = User('jane', 'Jane Doe', 'jane@doe.com')"
      ],
      "metadata": {
        "colab": {
          "base_uri": "https://localhost:8080/"
        },
        "id": "t3yKrO5CMT3t",
        "outputId": "b3856344-9ff6-4942-a048-5dd3899f3b13"
      },
      "execution_count": 32,
      "outputs": [
        {
          "output_type": "stream",
          "name": "stdout",
          "text": [
            "User created!\n"
          ]
        }
      ]
    },
    {
      "cell_type": "code",
      "source": [
        "user4"
      ],
      "metadata": {
        "colab": {
          "base_uri": "https://localhost:8080/"
        },
        "id": "FOCU0sxoMT0t",
        "outputId": "499a4cda-12cb-442d-d7e4-28e1362ca821"
      },
      "execution_count": 33,
      "outputs": [
        {
          "output_type": "execute_result",
          "data": {
            "text/plain": [
              "User(username='jane', name='Jane Doe', email='jane@doe.com')"
            ]
          },
          "metadata": {},
          "execution_count": 33
        }
      ]
    },
    {
      "cell_type": "code",
      "source": [
        "class UserDatabase:\n",
        "  def insert(self, user):\n",
        "    pass\n",
        "\n",
        "  def find(self, username):\n",
        "    pass\n",
        "\n",
        "  def update(self, user):\n",
        "    pass\n",
        "\n",
        "  def list_all(self):\n",
        "    pass"
      ],
      "metadata": {
        "id": "UJX3N3UEMTyH"
      },
      "execution_count": 34,
      "outputs": []
    },
    {
      "cell_type": "code",
      "source": [],
      "metadata": {
        "id": "MKiVzk-YMTvQ"
      },
      "execution_count": 34,
      "outputs": []
    },
    {
      "cell_type": "code",
      "source": [],
      "metadata": {
        "id": "pvMtvng6MTsW"
      },
      "execution_count": 34,
      "outputs": []
    },
    {
      "cell_type": "code",
      "source": [
        "'''\n",
        "aakash = User('aakash', 'Aakash Rai', 'aakash@example.com')\n",
        "biraj = User('biraj', 'Biraj Das', 'biraj@example.com')\n",
        "hemanth = User('hemanth', 'Hemanth Jain', 'hemanth@example.com')\n",
        "jadhesh = User('jadhesh', 'Jadhesh Verma', 'jadhesh@example.com')\n",
        "siddhant = User('siddhant', 'Siddhant Sinha', 'siddhant@example.com')\n",
        "sonaksh = User('sonaksh', 'Sonaksh Kumar', 'sonaksh@example.com')\n",
        "vishal = User('vishal', 'Vishal Goel', 'vishal@example.com')\n",
        "\n",
        "'''"
      ],
      "metadata": {
        "colab": {
          "base_uri": "https://localhost:8080/",
          "height": 70
        },
        "id": "Qyo0F526MTpg",
        "outputId": "5b560c43-6dbc-4db2-e69f-adf470d5e5e5"
      },
      "execution_count": 35,
      "outputs": [
        {
          "output_type": "execute_result",
          "data": {
            "text/plain": [
              "\"\\naakash = User('aakash', 'Aakash Rai', 'aakash@example.com')\\nbiraj = User('biraj', 'Biraj Das', 'biraj@example.com')\\nhemanth = User('hemanth', 'Hemanth Jain', 'hemanth@example.com')\\njadhesh = User('jadhesh', 'Jadhesh Verma', 'jadhesh@example.com')\\nsiddhant = User('siddhant', 'Siddhant Sinha', 'siddhant@example.com')\\nsonaksh = User('sonaksh', 'Sonaksh Kumar', 'sonaksh@example.com')\\nvishal = User('vishal', 'Vishal Goel', 'vishal@example.com')\\n\\n\""
            ],
            "application/vnd.google.colaboratory.intrinsic+json": {
              "type": "string"
            }
          },
          "metadata": {},
          "execution_count": 35
        }
      ]
    },
    {
      "cell_type": "code",
      "source": [
        "class TreeNode:\n",
        "  def __init__(self, key):\n",
        "    self.key = key\n",
        "    self.left = None\n",
        "    self.right = None\n"
      ],
      "metadata": {
        "id": "GBJoG9FtMTkG"
      },
      "execution_count": 36,
      "outputs": []
    },
    {
      "cell_type": "code",
      "source": [
        "node0 = TreeNode(3)\n",
        "node1 = TreeNode(4)\n",
        "node2 = TreeNode(5)"
      ],
      "metadata": {
        "id": "tQY7vOKSQopH"
      },
      "execution_count": 37,
      "outputs": []
    },
    {
      "cell_type": "code",
      "source": [
        "node0.left = node1\n",
        "node0.right = node2\n",
        "tree = node0\n",
        "tree.key"
      ],
      "metadata": {
        "colab": {
          "base_uri": "https://localhost:8080/"
        },
        "id": "grjyjloqQpVW",
        "outputId": "40546262-e1cd-4340-a123-3d5446fe08c6"
      },
      "execution_count": 38,
      "outputs": [
        {
          "output_type": "execute_result",
          "data": {
            "text/plain": [
              "3"
            ]
          },
          "metadata": {},
          "execution_count": 38
        }
      ]
    },
    {
      "cell_type": "code",
      "source": [
        "node0.left.key, node0.right.key"
      ],
      "metadata": {
        "colab": {
          "base_uri": "https://localhost:8080/"
        },
        "id": "tFdL9KSnQpRv",
        "outputId": "84ff1cb1-0eb6-456f-f4bf-3de98930a553"
      },
      "execution_count": 39,
      "outputs": [
        {
          "output_type": "execute_result",
          "data": {
            "text/plain": [
              "(4, 5)"
            ]
          },
          "metadata": {},
          "execution_count": 39
        }
      ]
    },
    {
      "cell_type": "code",
      "source": [
        "tree_tuple = ((1,3,None) , 2 , ((None, 3, 4), 5, (6, 7, 8)))"
      ],
      "metadata": {
        "id": "AS6grE9maLvM"
      },
      "execution_count": 40,
      "outputs": []
    },
    {
      "cell_type": "code",
      "source": [
        "'''\n",
        "base case :\n",
        "if node == None return None\n",
        "if nonde.left == None and node.right == None then return Node\n",
        "\n",
        "In all other cases call parse_tuple\n",
        "parse_tuple()\n",
        "'''"
      ],
      "metadata": {
        "colab": {
          "base_uri": "https://localhost:8080/",
          "height": 35
        },
        "id": "P7OjY5suaLsq",
        "outputId": "5418b8d1-f22c-4ef7-a58f-7e841b9b230d"
      },
      "execution_count": 41,
      "outputs": [
        {
          "output_type": "execute_result",
          "data": {
            "text/plain": [
              "'\\nbase case :\\nif node == None return None\\nif nonde.left == None and node.right == None then return Node\\n\\nIn all other cases call parse_tuple\\nparse_tuple()\\n'"
            ],
            "application/vnd.google.colaboratory.intrinsic+json": {
              "type": "string"
            }
          },
          "metadata": {},
          "execution_count": 41
        }
      ]
    },
    {
      "cell_type": "code",
      "source": [
        "def parse_tuple(data):\n",
        "  if isinstance(data, tuple) and len(data) == 3:\n",
        "    node = TreeNode(data[1])\n",
        "    node.left = parse_tuple(data[0])\n",
        "    node.right = parse_tuple(data[2])\n",
        "  elif data is None:\n",
        "    node = None\n",
        "  else:\n",
        "    node = TreeNode(data)\n",
        "  return node"
      ],
      "metadata": {
        "id": "TKa0Z0unaLp9"
      },
      "execution_count": 42,
      "outputs": []
    },
    {
      "cell_type": "code",
      "source": [
        "def parse_tuple1(data):\n",
        "  if len(data) == 3 and isinstance(data, tuple):\n",
        "    node = TreeNode(data[1])\n",
        "    node.left = TreeNode(data[0])\n",
        "    node.right = TreeNode(data[2])\n",
        "  elif node == None:\n",
        "    return None\n",
        "  else:\n",
        "    return TreeNode(data)\n",
        "  return node"
      ],
      "metadata": {
        "id": "eP8HCv0G_0U6"
      },
      "execution_count": 43,
      "outputs": []
    },
    {
      "cell_type": "code",
      "source": [
        "def parse_tuple2(data):\n",
        "  if len(data) == 3 and isinstance(data, tuple):\n",
        "    node = TreeNode(data[1])\n",
        "    node.left = TreeNode(data[0])\n",
        "    node.right = TreeNode(data[2])\n",
        "  elif data == None:\n",
        "    return None\n",
        "  else:\n",
        "    return TreeNode(data)\n",
        "\n",
        "  return node"
      ],
      "metadata": {
        "id": "eYipmkgrCtpw"
      },
      "execution_count": 44,
      "outputs": []
    },
    {
      "cell_type": "code",
      "source": [
        "def parse_tuple3(data):\n",
        "  if len(data) == 3 and isinstance(data, tuple):\n",
        "    node = TreeNode(data[1])\n",
        "    node.left = TreeNode(data[0])\n",
        "    node.right = TreeNode(data[2])\n",
        "  elif node == None:\n",
        "    return None\n",
        "  else:\n",
        "    return TreeNode(data)\n",
        "\n",
        "  return node"
      ],
      "metadata": {
        "id": "ntw3SJ_2CtmN"
      },
      "execution_count": 45,
      "outputs": []
    },
    {
      "cell_type": "code",
      "source": [
        "data = ((1,3,None),2,(3,5,7))\n",
        "tree = parse_tuple(data)"
      ],
      "metadata": {
        "id": "2W1d3cVLCtjl"
      },
      "execution_count": 46,
      "outputs": []
    },
    {
      "cell_type": "code",
      "source": [
        "tree.left.key, tree.key, tree.right.key"
      ],
      "metadata": {
        "colab": {
          "base_uri": "https://localhost:8080/"
        },
        "id": "c_bPmzpzCtgx",
        "outputId": "222642ee-d004-4de3-e3b2-79e003abf651"
      },
      "execution_count": 47,
      "outputs": [
        {
          "output_type": "execute_result",
          "data": {
            "text/plain": [
              "(3, 2, 5)"
            ]
          },
          "metadata": {},
          "execution_count": 47
        }
      ]
    },
    {
      "cell_type": "code",
      "source": [
        "tree.left.left.key, tree.left.key"
      ],
      "metadata": {
        "colab": {
          "base_uri": "https://localhost:8080/"
        },
        "id": "g2OblpRACteD",
        "outputId": "8a1e6842-22ac-4f16-f271-7f4cdf294772"
      },
      "execution_count": 48,
      "outputs": [
        {
          "output_type": "execute_result",
          "data": {
            "text/plain": [
              "(1, 3)"
            ]
          },
          "metadata": {},
          "execution_count": 48
        }
      ]
    },
    {
      "cell_type": "code",
      "source": [
        "def tree_to_tuple(node):\n",
        "  if isinstance(node, TreeNode):\n",
        "    if node.left is None and node.right is None:\n",
        "      return node.key\n",
        "\n",
        "    return (tree_to_tuple(node.left), node.key, tree_to_tuple(node.right))\n"
      ],
      "metadata": {
        "id": "1qt_HJk_CtbV"
      },
      "execution_count": 49,
      "outputs": []
    },
    {
      "cell_type": "code",
      "source": [
        "tree_to_tuple(tree)"
      ],
      "metadata": {
        "colab": {
          "base_uri": "https://localhost:8080/"
        },
        "id": "cQcUJKXvCtYS",
        "outputId": "a2e0cdb7-5edb-47fc-a9d3-a0f7878f9722"
      },
      "execution_count": 50,
      "outputs": [
        {
          "output_type": "execute_result",
          "data": {
            "text/plain": [
              "((1, 3, None), 2, (3, 5, 7))"
            ]
          },
          "metadata": {},
          "execution_count": 50
        }
      ]
    },
    {
      "cell_type": "code",
      "source": [],
      "metadata": {
        "id": "Ncg3-sm3CtVm"
      },
      "execution_count": 50,
      "outputs": []
    },
    {
      "cell_type": "code",
      "source": [],
      "metadata": {
        "id": "86RPeygS_0Re"
      },
      "execution_count": 50,
      "outputs": []
    },
    {
      "cell_type": "code",
      "source": [
        "def display_keys(node, space='\\t', level=0):\n",
        "  # print(node.key if node else None, level)\n",
        "\n",
        "  # If the node is empty\n",
        "  if node is None:\n",
        "    print(space*level + '∅')\n",
        "    return\n",
        "\n",
        "  # If the node is a leaf\n",
        "  if node.left is None and node.right is None:\n",
        "    print(space*level + str(node.key))\n",
        "    return\n",
        "\n",
        "  # If the node has children\n",
        "  display_keys(node.right, space, level+1)\n",
        "  print(space*level + str(node.key))\n",
        "  display_keys(node.left,space, level+1)"
      ],
      "metadata": {
        "id": "cbq-4vf0_0Ov"
      },
      "execution_count": 51,
      "outputs": []
    },
    {
      "cell_type": "code",
      "source": [
        "display_keys(tree, '  ')"
      ],
      "metadata": {
        "colab": {
          "base_uri": "https://localhost:8080/"
        },
        "id": "KWbcfZk_Pr5o",
        "outputId": "a2c35e5d-f0b7-4fb2-8ff3-015d458569ae"
      },
      "execution_count": 52,
      "outputs": [
        {
          "output_type": "stream",
          "name": "stdout",
          "text": [
            "    7\n",
            "  5\n",
            "    3\n",
            "2\n",
            "    ∅\n",
            "  3\n",
            "    1\n"
          ]
        }
      ]
    },
    {
      "cell_type": "code",
      "source": [
        "# IN ORDER TRAVERSAL"
      ],
      "metadata": {
        "id": "FZN9fk24PtYW"
      },
      "execution_count": 53,
      "outputs": []
    },
    {
      "cell_type": "code",
      "source": [
        "def in_order_tree_traversal(node):\n",
        "  if node == None:\n",
        "    return []\n",
        "\n",
        "  return (in_order_tree_traversal(node.left) + [node.key] + in_order_tree_traversal(node.right))"
      ],
      "metadata": {
        "id": "jN-Veqt8PtVA"
      },
      "execution_count": 54,
      "outputs": []
    },
    {
      "cell_type": "code",
      "source": [
        "def tree_height(node):\n",
        "  if node == None:\n",
        "    return 0\n",
        "\n",
        "  return (1+ max(tree_height(node.left), tree_height(node.right)))"
      ],
      "metadata": {
        "id": "GMItToL3PtSB"
      },
      "execution_count": 55,
      "outputs": []
    },
    {
      "cell_type": "code",
      "source": [
        "tree_height(tree)"
      ],
      "metadata": {
        "colab": {
          "base_uri": "https://localhost:8080/"
        },
        "id": "b0JfOCCkPtOs",
        "outputId": "91355669-d114-4eed-c1b9-3e146ea7e61a"
      },
      "execution_count": 56,
      "outputs": [
        {
          "output_type": "execute_result",
          "data": {
            "text/plain": [
              "3"
            ]
          },
          "metadata": {},
          "execution_count": 56
        }
      ]
    },
    {
      "cell_type": "code",
      "source": [
        "def tree_size(node):\n",
        "  if node == None:\n",
        "    return None\n",
        "  return 1 + tree_size(node.left) + tree_size(node.right)"
      ],
      "metadata": {
        "id": "YeUwnIVlPtLY"
      },
      "execution_count": 57,
      "outputs": []
    },
    {
      "cell_type": "code",
      "source": [
        "class TreeNode():\n",
        "  def __init__(self, key):\n",
        "    self.key, self.left, self.right = key, None, None\n",
        "\n",
        "  def height(self):\n",
        "    if self is None:\n",
        "      return 0\n",
        "    return 1 + max(TreeNode.height(self.left), TreeNode.height(self.right))\n",
        "\n",
        "  def size(self):\n",
        "    if self is None:\n",
        "      return 0\n",
        "    return 1 + TreeNode.size(self.left) + TreeNode.size(self.right)\n",
        "\n",
        "  def traverse_in_order(self):\n",
        "    if self is None:\n",
        "      return []\n",
        "    return (TreeNode.traverse_in_order(self.left) + [self.key] + TreeNode.traverse_in_order(self.right))\n",
        "\n",
        "  def display_keys(self, space='\\t', level=0):\n",
        "    if self is None:\n",
        "      print(space+level + '0')\n",
        "      return\n",
        "    if self.left is None and self.right is None:\n",
        "      print(space*level + str(self.key))\n",
        "      return\n",
        "    # if the nodes have children\n",
        "    display_keys(self.right. space, level+1)\n",
        "    print(space*level + str(self.key))\n",
        "    display_keys(self.left, space, levle+1)\n",
        "\n",
        "  def to_tuple(self):\n",
        "    if self is None:\n",
        "      return None\n",
        "    if self.left is None and self.right is None:\n",
        "      return self.key\n",
        "    return TreeNode.to_tuple(self.left), self.key, TreeNode.to_tuple(self.right)\n",
        "\n",
        "  def __str__(self):\n",
        "    return \"BinaryTree <{}>\".format(self.to_tuple())\n",
        "\n",
        "  def __repr__(self):\n",
        "    return \"BinaryTree <{}>\".format(self.to_tuple())\n",
        "\n",
        "  def parse_tuple(self):\n",
        "    if self is None:\n",
        "      node = None\n",
        "    elif isinstance(node, tuple) and len(node) == 3:\n",
        "      node = TreeNode(data[1])\n",
        "      node.left = TreeNode(data[0])\n",
        "      node.right = TreeNode(data[2])\n",
        "    else:\n",
        "      node = TreeNode(data)\n",
        "    return node\n"
      ],
      "metadata": {
        "id": "c6sB9qtKPsjh"
      },
      "execution_count": 58,
      "outputs": []
    },
    {
      "cell_type": "code",
      "source": [
        "def isBST(root):\n",
        "  if root is None:\n",
        "    return True\n",
        "  if root.left is not None and root.left.key > root.key:\n",
        "    return False\n",
        "  if root.right is not None and root.right.key < root.key:\n",
        "    return False\n",
        "  left = isBST(root.left)\n",
        "  right = isBST(root.right)\n",
        "\n",
        "  if left == True and right == True:\n",
        "    return True\n",
        "  else:\n",
        "    return False"
      ],
      "metadata": {
        "id": "a4S34KoeJXrB"
      },
      "execution_count": 60,
      "outputs": []
    },
    {
      "cell_type": "code",
      "source": [
        "aakash = User('aakash', 'Aakash Rai', 'aakash@example.com')\n",
        "biraj = User('biraj', 'Biraj Das', 'biraj@example.com')\n",
        "hemanth = User('hemanth', 'Hemanth Jain', 'hemanth@example.com')\n",
        "jadhesh = User('jadhesh', 'Jadhesh Verma', 'jadhesh@example.com')\n",
        "siddhant = User('siddhant', 'Siddhant Sinha', 'siddhant@example.com')\n",
        "sonaksh = User('sonaksh', 'Sonaksh Kumar', 'sonaksh@example.com')\n",
        "vishal = User('vishal', 'Vishal Goel', 'vishal@example.com')"
      ],
      "metadata": {
        "colab": {
          "base_uri": "https://localhost:8080/"
        },
        "id": "e4_q56cETXmS",
        "outputId": "6288f314-aaea-46a9-99a8-f6fd7f8e0824"
      },
      "execution_count": 63,
      "outputs": [
        {
          "output_type": "stream",
          "name": "stdout",
          "text": [
            "User created!\n",
            "User created!\n",
            "User created!\n",
            "User created!\n",
            "User created!\n",
            "User created!\n",
            "User created!\n"
          ]
        }
      ]
    },
    {
      "cell_type": "code",
      "source": [
        "class BSTNode():\n",
        "  def __init__(self, key, value=None):\n",
        "    self.key = key\n",
        "    self.value = value\n",
        "    self.left = None\n",
        "    self.right = None\n",
        "    self.parent = None"
      ],
      "metadata": {
        "id": "Q3-JsDL8JXn-"
      },
      "execution_count": 61,
      "outputs": []
    },
    {
      "cell_type": "code",
      "source": [
        "tree = BSTNode(jadhesh.username, jadhesh)"
      ],
      "metadata": {
        "id": "y7npv_EZJXlC"
      },
      "execution_count": 64,
      "outputs": []
    },
    {
      "cell_type": "code",
      "source": [
        "# Level 1\n",
        "tree.left = BSTNode(biraj.username, biraj)\n",
        "tree.right = BSTNode(sonaksh.username, sonaksh)"
      ],
      "metadata": {
        "id": "FHkRtFrGJXiC"
      },
      "execution_count": 65,
      "outputs": []
    },
    {
      "cell_type": "code",
      "source": [
        "display_keys(tree)"
      ],
      "metadata": {
        "colab": {
          "base_uri": "https://localhost:8080/"
        },
        "id": "DPPrQinrTe1s",
        "outputId": "2a176566-210f-4147-8bf7-2b1dcedb0793"
      },
      "execution_count": 66,
      "outputs": [
        {
          "output_type": "stream",
          "name": "stdout",
          "text": [
            "\tsonaksh\n",
            "jadhesh\n",
            "\tbiraj\n"
          ]
        }
      ]
    },
    {
      "cell_type": "code",
      "source": [
        "def insertBST(node, key, value):\n",
        "  if node is None:\n",
        "    node = BSTNode(key,value)\n",
        "  if key < node.key:\n",
        "    node.left = insertBST(node.left, key, value)\n",
        "    node.left.parent = node\n",
        "  if key > node.key:\n",
        "    node.right = insertBST(node.right, key, value)\n",
        "    node.right.parent = node\n",
        "  return node"
      ],
      "metadata": {
        "id": "Dyih7oj7TeyM"
      },
      "execution_count": 68,
      "outputs": []
    },
    {
      "cell_type": "code",
      "source": [
        "insertBST(tree, biraj.username, biraj)\n",
        "insertBST(tree, sonaksh.username, sonaksh)\n",
        "insertBST(tree, aakash.username, aakash)\n",
        "insertBST(tree, hemanth.username, hemanth)\n",
        "insertBST(tree, siddhant.username, siddhant)\n",
        "insertBST(tree, vishal.username, siddhant)"
      ],
      "metadata": {
        "colab": {
          "base_uri": "https://localhost:8080/"
        },
        "id": "vUfZRF23Tevb",
        "outputId": "8262e0e9-bffc-4821-b26a-94d6cdaf4371"
      },
      "execution_count": 69,
      "outputs": [
        {
          "output_type": "execute_result",
          "data": {
            "text/plain": [
              "<__main__.BSTNode at 0x78eeec4b6800>"
            ]
          },
          "metadata": {},
          "execution_count": 69
        }
      ]
    },
    {
      "cell_type": "code",
      "source": [
        "display_keys(tree)"
      ],
      "metadata": {
        "colab": {
          "base_uri": "https://localhost:8080/"
        },
        "id": "5_xefrXNTesq",
        "outputId": "cb1ee318-5e57-45dd-8c5f-56b51d753b4a"
      },
      "execution_count": 70,
      "outputs": [
        {
          "output_type": "stream",
          "name": "stdout",
          "text": [
            "\t\tvishal\n",
            "\tsonaksh\n",
            "\t\tsiddhant\n",
            "jadhesh\n",
            "\t\themanth\n",
            "\tbiraj\n",
            "\t\taakash\n"
          ]
        }
      ]
    },
    {
      "cell_type": "code",
      "source": [
        "tree_height(tree)"
      ],
      "metadata": {
        "colab": {
          "base_uri": "https://localhost:8080/"
        },
        "id": "piui61rZTepz",
        "outputId": "918ed46a-7be5-4e8b-9809-2ec68b3fe254"
      },
      "execution_count": 71,
      "outputs": [
        {
          "output_type": "execute_result",
          "data": {
            "text/plain": [
              "3"
            ]
          },
          "metadata": {},
          "execution_count": 71
        }
      ]
    },
    {
      "cell_type": "code",
      "source": [
        "def find(node, key):\n",
        "  if node is None:\n",
        "    return None\n",
        "  if key == node.key:\n",
        "    return node\n",
        "  if key < node.key:\n",
        "    return find(node.left, key)\n",
        "  if key > node.key:\n",
        "    return find(node.right, key)"
      ],
      "metadata": {
        "id": "ZxhGLG9RTemt"
      },
      "execution_count": 74,
      "outputs": []
    },
    {
      "cell_type": "code",
      "source": [
        "node = find(tree, 'hemanth')\n",
        "node.key, node.value"
      ],
      "metadata": {
        "colab": {
          "base_uri": "https://localhost:8080/"
        },
        "id": "rsUB7adDTejm",
        "outputId": "e4d4dc6a-4941-43d6-f105-ca41039a6c18"
      },
      "execution_count": 75,
      "outputs": [
        {
          "output_type": "execute_result",
          "data": {
            "text/plain": [
              "('hemanth',\n",
              " User(username='hemanth', name='Hemanth Jain', email='hemanth@example.com'))"
            ]
          },
          "metadata": {},
          "execution_count": 75
        }
      ]
    },
    {
      "cell_type": "code",
      "source": [
        "def update(node, key, value):\n",
        "  target = find(node, key)\n",
        "  if target is not None:\n",
        "    target.value = value"
      ],
      "metadata": {
        "id": "J_WEfs-2W2qW"
      },
      "execution_count": 76,
      "outputs": []
    },
    {
      "cell_type": "code",
      "source": [
        "def list_all(node):\n",
        "  if node is None:\n",
        "    return []\n",
        "  return list_all(node.left) + [node.key, node.value] + list_all(node.right)"
      ],
      "metadata": {
        "id": "Ipe9oqWUW4h7"
      },
      "execution_count": 77,
      "outputs": []
    },
    {
      "cell_type": "code",
      "source": [
        "list_all(tree)"
      ],
      "metadata": {
        "colab": {
          "base_uri": "https://localhost:8080/"
        },
        "id": "80028EzkW4fS",
        "outputId": "5e6fcd00-6c39-402e-ae23-01e2583bb8de"
      },
      "execution_count": 78,
      "outputs": [
        {
          "output_type": "execute_result",
          "data": {
            "text/plain": [
              "['aakash',\n",
              " User(username='aakash', name='Aakash Rai', email='aakash@example.com'),\n",
              " 'biraj',\n",
              " User(username='biraj', name='Biraj Das', email='biraj@example.com'),\n",
              " 'hemanth',\n",
              " User(username='hemanth', name='Hemanth Jain', email='hemanth@example.com'),\n",
              " 'jadhesh',\n",
              " User(username='jadhesh', name='Jadhesh Verma', email='jadhesh@example.com'),\n",
              " 'siddhant',\n",
              " User(username='siddhant', name='Siddhant Sinha', email='siddhant@example.com'),\n",
              " 'sonaksh',\n",
              " User(username='sonaksh', name='Sonaksh Kumar', email='sonaksh@example.com'),\n",
              " 'vishal',\n",
              " User(username='siddhant', name='Siddhant Sinha', email='siddhant@example.com')]"
            ]
          },
          "metadata": {},
          "execution_count": 78
        }
      ]
    },
    {
      "cell_type": "code",
      "source": [
        "# tree_height\n",
        "\n",
        "def checkBalancedBT(node):\n",
        "  if node is None:\n",
        "    return True\n",
        "  lheight = tree_height(node.left)\n",
        "  rheight = tree_height(node.right)\n",
        "  if abs(lheight-rheight) > 1:\n",
        "    return False\n",
        "  lcheck = checkBalancedBT(node.left)\n",
        "  rcheck = checkBalancedBT(node.right)\n",
        "  if lcheck == True and rcheck == True:\n",
        "    return True"
      ],
      "metadata": {
        "id": "b19lI0m8W4Ws"
      },
      "execution_count": 79,
      "outputs": []
    },
    {
      "cell_type": "code",
      "source": [
        "def make_balanceTree(data, lo=0, hi=None, parent=None):\n",
        "  if hi is None:\n",
        "    hi = len(data)-1\n",
        "  if lo > hi:\n",
        "    return None\n",
        "  mid = hi + lo // 2\n",
        "  key, value = data[mid]\n",
        "\n",
        "  root = BSTNode(key, value)\n",
        "  root.parent = parent\n",
        "  root.left = make_balanceTree(data, lo, mid-1, root)\n",
        "  root.right = make_balanceTree(data, mid+1, hi, root)\n",
        "\n",
        "  return root"
      ],
      "metadata": {
        "id": "KGdBHHNWW4TV"
      },
      "execution_count": 83,
      "outputs": []
    },
    {
      "cell_type": "code",
      "source": [],
      "metadata": {
        "id": "AeJkOUNEXq3R"
      },
      "execution_count": null,
      "outputs": []
    },
    {
      "cell_type": "code",
      "source": [],
      "metadata": {
        "id": "2rqCMU0OXqzz"
      },
      "execution_count": null,
      "outputs": []
    },
    {
      "cell_type": "code",
      "source": [],
      "metadata": {
        "id": "cZKQ2Ul9Xqw4"
      },
      "execution_count": null,
      "outputs": []
    },
    {
      "cell_type": "code",
      "source": [],
      "metadata": {
        "id": "xxgTBUOAXqt4"
      },
      "execution_count": null,
      "outputs": []
    },
    {
      "cell_type": "code",
      "source": [],
      "metadata": {
        "id": "UpxnwWq8XqUO"
      },
      "execution_count": null,
      "outputs": []
    },
    {
      "cell_type": "code",
      "source": [],
      "metadata": {
        "id": "ET2moDP9W30l"
      },
      "execution_count": null,
      "outputs": []
    }
  ]
}