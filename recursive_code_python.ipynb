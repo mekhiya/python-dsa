{
  "nbformat": 4,
  "nbformat_minor": 0,
  "metadata": {
    "colab": {
      "provenance": [],
      "authorship_tag": "ABX9TyObQL+eATudusKlJDkKBJ78",
      "include_colab_link": true
    },
    "kernelspec": {
      "name": "python3",
      "display_name": "Python 3"
    },
    "language_info": {
      "name": "python"
    }
  },
  "cells": [
    {
      "cell_type": "markdown",
      "metadata": {
        "id": "view-in-github",
        "colab_type": "text"
      },
      "source": [
        "<a href=\"https://colab.research.google.com/github/mekhiya/python-dsa/blob/main/recursive_code_python.ipynb\" target=\"_parent\"><img src=\"https://colab.research.google.com/assets/colab-badge.svg\" alt=\"Open In Colab\"/></a>"
      ]
    },
    {
      "cell_type": "code",
      "execution_count": 1,
      "metadata": {
        "id": "eHonGcb_4Qxn"
      },
      "outputs": [],
      "source": [
        "def factorial_recursive(n):\n",
        "  if n < 2:\n",
        "    return 1\n",
        "  else:\n",
        "    return n * factorial_recursive(n-1)"
      ]
    },
    {
      "cell_type": "code",
      "source": [
        "factorial_recursive(10)"
      ],
      "metadata": {
        "colab": {
          "base_uri": "https://localhost:8080/"
        },
        "id": "3HRHj14e4ZLn",
        "outputId": "84eb3362-9af3-4cd2-88ca-04da5f73d761"
      },
      "execution_count": 2,
      "outputs": [
        {
          "output_type": "execute_result",
          "data": {
            "text/plain": [
              "3628800"
            ]
          },
          "metadata": {},
          "execution_count": 2
        }
      ]
    },
    {
      "cell_type": "code",
      "source": [
        "def sum_recursive(n):\n",
        "  '''\n",
        "  sum_recursive(0) = 0\n",
        "  sum_recursive(1) = 1 + sum_recursive(0)\n",
        "  sum_recursive(2) = 2 + sum_recursive(1)\n",
        "  sum_recursive(3) = 3 + sum_recursive(2)\n",
        "  '''\n",
        "\n",
        "  if n == 0:\n",
        "    return 1\n",
        "  else:\n",
        "    return n + sum_recursive(n-1)"
      ],
      "metadata": {
        "id": "zcJIXofi4ZIL"
      },
      "execution_count": 3,
      "outputs": []
    },
    {
      "cell_type": "code",
      "source": [
        "sum_recursive(20)"
      ],
      "metadata": {
        "colab": {
          "base_uri": "https://localhost:8080/"
        },
        "id": "lvJp4iDT4ZFd",
        "outputId": "3dd57f8f-de97-42fa-8477-5dee1f2b556c"
      },
      "execution_count": 4,
      "outputs": [
        {
          "output_type": "execute_result",
          "data": {
            "text/plain": [
              "211"
            ]
          },
          "metadata": {},
          "execution_count": 4
        }
      ]
    },
    {
      "cell_type": "code",
      "source": [
        "# n x m gird\n",
        "# find all unique path\n",
        "# top left corner to bottom right corner\n",
        "'''\n",
        "n , m = 3 , 3\n",
        "\n",
        "1,2,3\n",
        "4,5,6\n",
        "7.8.9\n",
        "\n",
        "base case when\n",
        "n = 1 or m = 1 (only unique path)\n",
        "\n",
        "'''\n",
        "\n",
        "def gridPath_recursive(n,m):\n",
        "  if n == 1 or m ==1:\n",
        "    return 1\n",
        "  else:\n",
        "    return gridPath_recursive(n, m-1) + gridPath_recursive(n-1, m)"
      ],
      "metadata": {
        "id": "8PFPZpwl4ZCk"
      },
      "execution_count": 5,
      "outputs": []
    },
    {
      "cell_type": "code",
      "source": [
        "gridPath_recursive(3,3)"
      ],
      "metadata": {
        "colab": {
          "base_uri": "https://localhost:8080/"
        },
        "id": "GPJau-B04Y_q",
        "outputId": "9b98f014-cb98-4ce0-93f2-3881c605df18"
      },
      "execution_count": 6,
      "outputs": [
        {
          "output_type": "execute_result",
          "data": {
            "text/plain": [
              "6"
            ]
          },
          "metadata": {},
          "execution_count": 6
        }
      ]
    },
    {
      "cell_type": "code",
      "source": [],
      "metadata": {
        "id": "-YrWcVLB4Y8_"
      },
      "execution_count": null,
      "outputs": []
    },
    {
      "cell_type": "code",
      "source": [],
      "metadata": {
        "id": "ZekFZJPA4YxN"
      },
      "execution_count": null,
      "outputs": []
    }
  ]
}