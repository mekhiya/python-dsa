{
  "nbformat": 4,
  "nbformat_minor": 0,
  "metadata": {
    "colab": {
      "provenance": [],
      "authorship_tag": "ABX9TyMpKf6F0TC3mLHQT6xNH7fd",
      "include_colab_link": true
    },
    "kernelspec": {
      "name": "python3",
      "display_name": "Python 3"
    },
    "language_info": {
      "name": "python"
    }
  },
  "cells": [
    {
      "cell_type": "markdown",
      "metadata": {
        "id": "view-in-github",
        "colab_type": "text"
      },
      "source": [
        "<a href=\"https://colab.research.google.com/github/mekhiya/python-dsa/blob/main/python_dsa_bin_search_sorted_list.ipynb\" target=\"_parent\"><img src=\"https://colab.research.google.com/assets/colab-badge.svg\" alt=\"Open In Colab\"/></a>"
      ]
    },
    {
      "cell_type": "code",
      "source": [
        "# sorted list, cards with decreasing order\n",
        "# n number of cards\n",
        "\n",
        "# brute force\n",
        "#  - run loop 1 to n, turn all crads & check which one is correct\n",
        "\n",
        "\n",
        "# no. of cards = 10\n",
        "# 0, 1, 2, 3, 4, ...8, 9\n",
        "# start = 0\n",
        "# end = n-1 = 10\n",
        "# mid = n/2 = 5\n",
        "\n",
        "\n",
        "\n",
        "# start = 0\n",
        "# end = n or (n-1)\n",
        "# mid = n/2\n",
        "# if mid == result => exit\n",
        "\n",
        "  # if mid < result, then your card is in left half => end = n/2\n",
        "  # if mid > result, then your card is in right half => start = n/2 - 1"
      ],
      "metadata": {
        "id": "lKBA-yLzrX-G"
      },
      "execution_count": 16,
      "outputs": []
    },
    {
      "cell_type": "code",
      "source": [
        "def recur_Search(cards, secretcardValue):\n",
        "  total = len(cards)\n",
        "  start = 0\n",
        "  end = len(cards)\n",
        "\n",
        "  while start <= end:\n",
        "    mid = (start + end) // 2\n",
        "    mid_number = cards[mid]\n",
        "    print(f\"We have total {end-start} cards\")\n",
        "    print(f\"start is {start} &  end is {end} & mid is {mid}\")\n",
        "    if mid_number == secretcardValue:\n",
        "      print(f\"secret card {secretcardValue} found at position {mid}\")\n",
        "      return mid\n",
        "    elif mid_number < secretcardValue:\n",
        "      print(\"left side\")\n",
        "      end = mid - 1\n",
        "    elif mid_number > secretcardValue:\n",
        "      print(\"right side\")\n",
        "      start = mid + 1\n",
        "\n",
        "  return -1"
      ],
      "metadata": {
        "id": "mDpSccwirX4E"
      },
      "execution_count": 2,
      "outputs": []
    },
    {
      "cell_type": "code",
      "source": [
        "cards = [10, 8, 6, 5, 4, 3, 2]\n",
        "\n",
        "#secretcardValue = 3\n",
        "\n",
        "recur_Search(cards, 10)"
      ],
      "metadata": {
        "colab": {
          "base_uri": "https://localhost:8080/"
        },
        "id": "RTnHLeZRrX1G",
        "outputId": "5b41af65-bd01-4f08-d6d7-59ed3256908d"
      },
      "execution_count": 3,
      "outputs": [
        {
          "output_type": "stream",
          "name": "stdout",
          "text": [
            "We have total 7 cards\n",
            "start is 0 &  end is 7 & mid is 3\n",
            "left side\n",
            "We have total 2 cards\n",
            "start is 0 &  end is 2 & mid is 1\n",
            "left side\n",
            "We have total 0 cards\n",
            "start is 0 &  end is 0 & mid is 0\n",
            "secret card 10 found at position 0\n"
          ]
        },
        {
          "output_type": "execute_result",
          "data": {
            "text/plain": [
              "0"
            ]
          },
          "metadata": {},
          "execution_count": 3
        }
      ]
    },
    {
      "cell_type": "code",
      "source": [],
      "metadata": {
        "id": "B3XPgGvUrXyM"
      },
      "execution_count": 3,
      "outputs": []
    },
    {
      "cell_type": "code",
      "source": [
        "# cards = [10,9,8,6,5,4,3]\n",
        "\n",
        "def bin_recu_search_position(cardsList, secret):\n",
        "  start, end = 0, len(cardsList)\n",
        "\n",
        "  while start <= end:\n",
        "    mid = (start + end) // 2\n",
        "    mid_value = cardsList[mid]\n",
        "    print(f\"start is {start}, end is {end}, & mid is {mid}\")\n",
        "    if mid_value == secret:\n",
        "      print(f\"found card at position {mid}\")\n",
        "      return mid\n",
        "    elif mid_value >= secret:\n",
        "      print(\"right side list\")\n",
        "      start = mid + 1\n",
        "    elif mid_value <= secret:\n",
        "      print(\"left side\")\n",
        "      end = mid - 1\n",
        "\n",
        "  return-1"
      ],
      "metadata": {
        "id": "3Bgpdr73rXvc"
      },
      "execution_count": 4,
      "outputs": []
    },
    {
      "cell_type": "code",
      "source": [
        "cards1 = [21,20,19,18,17,16,15,14,13,12,10,9,8,6,5,4,3]\n",
        "\n",
        "bin_recu_search_position(cards1, 17)\n"
      ],
      "metadata": {
        "colab": {
          "base_uri": "https://localhost:8080/"
        },
        "id": "lwA98nwirXi-",
        "outputId": "54cf4ff1-5519-49d5-e458-c5c1224a9b03"
      },
      "execution_count": 5,
      "outputs": [
        {
          "output_type": "stream",
          "name": "stdout",
          "text": [
            "start is 0, end is 17, & mid is 8\n",
            "left side\n",
            "start is 0, end is 7, & mid is 3\n",
            "right side list\n",
            "start is 4, end is 7, & mid is 5\n",
            "left side\n",
            "start is 4, end is 4, & mid is 4\n",
            "found card at position 4\n"
          ]
        },
        {
          "output_type": "execute_result",
          "data": {
            "text/plain": [
              "4"
            ]
          },
          "metadata": {},
          "execution_count": 5
        }
      ]
    },
    {
      "cell_type": "code",
      "source": [
        "def bin_search_sorted_list(cards, findcard):\n",
        "  start, end = 0, len(cards)\n",
        "  while start <= end:\n",
        "    mid = (start + end)//2\n",
        "    mid_value = cards[mid]\n",
        "    if mid_value == findcard:\n",
        "      print(f\"found card at position {mid}\")\n",
        "      return mid\n",
        "    elif mid_value >= findcard:\n",
        "      # looking for 5 and mid is 8 = right side\n",
        "      print(\"right side\")\n",
        "      start = mid + 1\n",
        "    elif mid_value <= findcard:\n",
        "      print(\"left side\")\n",
        "      end = mid - 1\n",
        "\n",
        "  # if not found\n",
        "  return -1"
      ],
      "metadata": {
        "id": "VzClavf09Ypc"
      },
      "execution_count": 6,
      "outputs": []
    },
    {
      "cell_type": "code",
      "source": [
        "cards2 = [21,20,19,18,17,16,15,14,13,12,10,9,8,6,5,4,3]\n",
        "\n",
        "\n",
        "bin_search_sorted_list(cards2, 171)"
      ],
      "metadata": {
        "colab": {
          "base_uri": "https://localhost:8080/"
        },
        "id": "MVulne6Q9YmI",
        "outputId": "e9e267a4-eebf-470b-c911-47fb66d7f25a"
      },
      "execution_count": 7,
      "outputs": [
        {
          "output_type": "stream",
          "name": "stdout",
          "text": [
            "left side\n",
            "left side\n",
            "left side\n",
            "left side\n"
          ]
        },
        {
          "output_type": "execute_result",
          "data": {
            "text/plain": [
              "-1"
            ]
          },
          "metadata": {},
          "execution_count": 7
        }
      ]
    },
    {
      "cell_type": "code",
      "source": [
        "# cards2 = [21,20,19,18,17,16,15,14,13,12,10,9,8,6,5,4,3]\n",
        "# bin_search_sorted_list1(cards2, 8)\n",
        "\n",
        "def bin_search_sorted_list1(cards, find):\n",
        "  start, end = 0 , len(cards)\n",
        "  while start <= end:\n",
        "    mid = (start + end) // 2\n",
        "    mid_value = cards[mid]\n",
        "    print(f\"start is {start}, end is {end}, & mid is {mid}\")\n",
        "    if mid_value == find:\n",
        "      print(f\"found card at position {mid}\")\n",
        "      return mid\n",
        "    elif mid_value >= find:\n",
        "      print(\"right side\")\n",
        "      start = mid + 1\n",
        "    elif mid_value <= find:\n",
        "      print(\"left side\")\n",
        "      end = mid - 1\n",
        "\n",
        "  # if not found\n",
        "  return -1"
      ],
      "metadata": {
        "id": "puUer1u19Yi-"
      },
      "execution_count": 8,
      "outputs": []
    },
    {
      "cell_type": "code",
      "source": [
        "cards2 = [21,20,19,18,17,16,15,14,13,12,10,9,8,6,5,4,3]\n",
        "bin_search_sorted_list1(cards2, 8)"
      ],
      "metadata": {
        "colab": {
          "base_uri": "https://localhost:8080/"
        },
        "id": "ufhGZW5K9YJU",
        "outputId": "b9d22264-fd00-401f-dafe-651881997ba7"
      },
      "execution_count": 9,
      "outputs": [
        {
          "output_type": "stream",
          "name": "stdout",
          "text": [
            "start is 0, end is 17, & mid is 8\n",
            "right side\n",
            "start is 9, end is 17, & mid is 13\n",
            "left side\n",
            "start is 9, end is 12, & mid is 10\n",
            "right side\n",
            "start is 11, end is 12, & mid is 11\n",
            "right side\n",
            "start is 12, end is 12, & mid is 12\n",
            "found card at position 12\n"
          ]
        },
        {
          "output_type": "execute_result",
          "data": {
            "text/plain": [
              "12"
            ]
          },
          "metadata": {},
          "execution_count": 9
        }
      ]
    },
    {
      "cell_type": "code",
      "source": [
        "\n",
        "# cards2 = [21,20,19,18,17,16,15,14,13,12,10,9,8,6,5,4,3]\n",
        "\n",
        "def bin_search_sorted_list2(cards, find):\n",
        "  start, end = 0, len(cards)\n",
        "  while start <= end:\n",
        "    mid = (start + end)//2\n",
        "    mid_value = cards[mid]\n",
        "    print(f\"start is {start}, end is {end}, mid is {mid}\")\n",
        "    if mid_value == find:\n",
        "      return mid\n",
        "    elif mid_value >= find:\n",
        "      print(\"right side\")\n",
        "      start = mid + 1\n",
        "    elif mid_value <= find:\n",
        "      print(\"left side\")\n",
        "      end = mid - 1\n",
        "\n",
        "  # if not found\n",
        "  return -1"
      ],
      "metadata": {
        "id": "D4ppf4d9Bq2o"
      },
      "execution_count": 10,
      "outputs": []
    },
    {
      "cell_type": "code",
      "source": [
        "cards3 = [21,20,19,18,17,16,15,14,13,12,10,9,8,6,5,4,3]\n",
        "\n",
        "bin_search_sorted_list2(cards3, 18)"
      ],
      "metadata": {
        "colab": {
          "base_uri": "https://localhost:8080/"
        },
        "id": "40XyrlBGBqzo",
        "outputId": "4f255bc7-a75f-4326-9890-ca4a594373a0"
      },
      "execution_count": 11,
      "outputs": [
        {
          "output_type": "stream",
          "name": "stdout",
          "text": [
            "start is 0, end is 17, mid is 8\n",
            "left side\n",
            "start is 0, end is 7, mid is 3\n"
          ]
        },
        {
          "output_type": "execute_result",
          "data": {
            "text/plain": [
              "3"
            ]
          },
          "metadata": {},
          "execution_count": 11
        }
      ]
    },
    {
      "cell_type": "code",
      "source": [
        "def searc_card_binary(cards, find):\n",
        "  start, end = 0, len(cards)\n",
        "\n",
        "  while start <= end: # 1 == 1 end == end\n",
        "    mid = (start + end) // 2\n",
        "    mid_value = cards[mid]\n",
        "    print(f\"start is {start}, end is {end}, mid is {mid}\")\n",
        "    if mid_value == find:\n",
        "      print(f\"found ard at {mid}\")\n",
        "      return mid\n",
        "    elif mid_value >= find:\n",
        "      print(\"right side\")\n",
        "      start = mid + 1\n",
        "    elif mid_value <= find:\n",
        "      print(\"left side\")\n",
        "      end = mid - 1\n",
        "\n",
        "  # if no found\n",
        "  return -1"
      ],
      "metadata": {
        "id": "z1c28l9lBqw1"
      },
      "execution_count": 12,
      "outputs": []
    },
    {
      "cell_type": "code",
      "source": [
        "searc_card_binary([10,9,8,7,6,5,4,3,2,1], 51)"
      ],
      "metadata": {
        "colab": {
          "base_uri": "https://localhost:8080/"
        },
        "id": "xvmjcy6IBquI",
        "outputId": "ebad697d-e834-47f2-e60f-797f686f3478"
      },
      "execution_count": 13,
      "outputs": [
        {
          "output_type": "stream",
          "name": "stdout",
          "text": [
            "start is 0, end is 10, mid is 5\n",
            "left side\n",
            "start is 0, end is 4, mid is 2\n",
            "left side\n",
            "start is 0, end is 1, mid is 0\n",
            "left side\n"
          ]
        },
        {
          "output_type": "execute_result",
          "data": {
            "text/plain": [
              "-1"
            ]
          },
          "metadata": {},
          "execution_count": 13
        }
      ]
    },
    {
      "cell_type": "code",
      "source": [
        "def search_binary_sorted_list_mod(cards, find):\n",
        "  start, end = 0, len(cards)\n",
        "  while start <= end:\n",
        "    mid = (start + end) // 2\n",
        "    mid_value = cards[mid]\n",
        "    if mid_value == find:\n",
        "      return mid\n",
        "    elif mid_value <= find:\n",
        "      print(\"left side\")\n",
        "      end = mid - 1\n",
        "    elif mid_value >= find:\n",
        "      print(\"right side\")\n",
        "      start = mid + 1\n",
        "  return -1"
      ],
      "metadata": {
        "id": "LFqzIR0VBqrS"
      },
      "execution_count": 14,
      "outputs": []
    },
    {
      "cell_type": "code",
      "source": [
        "search_binary_sorted_list_mod([10,9,8,7,6,5,4,3,2,1], 7)"
      ],
      "metadata": {
        "colab": {
          "base_uri": "https://localhost:8080/"
        },
        "id": "pgKqqXxZBqoe",
        "outputId": "33db31ec-dae2-4ac0-8881-bc832485a6ba"
      },
      "execution_count": 15,
      "outputs": [
        {
          "output_type": "stream",
          "name": "stdout",
          "text": [
            "left side\n",
            "right side\n"
          ]
        },
        {
          "output_type": "execute_result",
          "data": {
            "text/plain": [
              "3"
            ]
          },
          "metadata": {},
          "execution_count": 15
        }
      ]
    }
  ]
}