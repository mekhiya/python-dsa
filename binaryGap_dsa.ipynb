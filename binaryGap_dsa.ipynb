{
  "nbformat": 4,
  "nbformat_minor": 0,
  "metadata": {
    "colab": {
      "provenance": [],
      "authorship_tag": "ABX9TyPURk5rQ3AmMFHfr/ysz6+o",
      "include_colab_link": true
    },
    "kernelspec": {
      "name": "python3",
      "display_name": "Python 3"
    },
    "language_info": {
      "name": "python"
    }
  },
  "cells": [
    {
      "cell_type": "markdown",
      "metadata": {
        "id": "view-in-github",
        "colab_type": "text"
      },
      "source": [
        "<a href=\"https://colab.research.google.com/github/mekhiya/python-dsa/blob/main/binaryGap_dsa.ipynb\" target=\"_parent\"><img src=\"https://colab.research.google.com/assets/colab-badge.svg\" alt=\"Open In Colab\"/></a>"
      ]
    },
    {
      "cell_type": "code",
      "execution_count": 53,
      "metadata": {
        "id": "RuuehDKMfO-i"
      },
      "outputs": [],
      "source": [
        "# you can write to stdout for debugging purposes, e.g.\n",
        "# print(\"this is a debug message\")\n",
        "\n",
        "def solution(N):\n",
        "    # start from first position, if next is 0, update count\n",
        "    # once you find 1, update binGap\n",
        "    # new count starts, again update count till find 1\n",
        "    # again found 1, check if count is bigger than binGap\n",
        "    binGap = 0\n",
        "    count = 0\n",
        "    first = True\n",
        "    # convert n to binary\n",
        "    # print(\"start-------\")\n",
        "    s = str(bin(N)[2:])\n",
        "    print(f\"binary format of N is {s}\")\n",
        "    l = [int(x) for x in s]\n",
        "    # print(f\"list is: {l}\")\n",
        "    # for loop assumes 0th position is is 1, starts from 1 position\n",
        "    for i in range(1,len(l)):\n",
        "      print(f'l[i] is {l[i]}')\n",
        "      if l[i] == 1:\n",
        "        # count already started, now look for closer 1\n",
        "        print(f'binGap is {binGap} and count is {count} and first is {first}')\n",
        "        if binGap < count or first:\n",
        "          # new count is bigger than binGap\n",
        "          binGap = count\n",
        "          print(f\"updating binGap to {count}\")\n",
        "          first = False\n",
        "          count = 0\n",
        "      elif l[i] == 0:\n",
        "          count += 1\n",
        "\n",
        "    # print(f\"binGap is {binGap}\")\n",
        "    return binGap"
      ]
    },
    {
      "cell_type": "code",
      "source": [
        "solution(9)"
      ],
      "metadata": {
        "colab": {
          "base_uri": "https://localhost:8080/"
        },
        "id": "E1PcCXyifajC",
        "outputId": "7672f309-500c-4034-c1a9-ad7831cc9b5e"
      },
      "execution_count": 35,
      "outputs": [
        {
          "output_type": "stream",
          "name": "stdout",
          "text": [
            "binary format of N is 1001\n",
            "l[i] is 0\n",
            "l[i] is 0\n",
            "l[i] is 1\n",
            "binGap is 0 and count is 2 and first is True\n",
            "updating binGap to 2\n"
          ]
        },
        {
          "output_type": "execute_result",
          "data": {
            "text/plain": [
              "2"
            ]
          },
          "metadata": {},
          "execution_count": 35
        }
      ]
    },
    {
      "cell_type": "code",
      "source": [
        "def solutionSplit(N):\n",
        "  binValue = bin(N)[2:]\n",
        "  print(f\"binValue is {binValue}\")\n",
        "  binValue = binValue.strip('0')\n",
        "  print(f\"binValue is {binValue}\")\n",
        "  binValue = binValue.split('1')\n",
        "  print(f\"binValue is {binValue}\")\n",
        "  binGap = max(len(x) for x in binValue)\n",
        "  return binGap"
      ],
      "metadata": {
        "id": "S45b6sPBffx2"
      },
      "execution_count": 51,
      "outputs": []
    },
    {
      "cell_type": "code",
      "source": [
        "solutionSplit(900)"
      ],
      "metadata": {
        "colab": {
          "base_uri": "https://localhost:8080/"
        },
        "id": "NbHNVtapfgyd",
        "outputId": "36ac3488-b288-4ace-abd9-ca0353aa57ef"
      },
      "execution_count": 52,
      "outputs": [
        {
          "output_type": "stream",
          "name": "stdout",
          "text": [
            "binValue is 1110000100\n",
            "binValue is 11100001\n",
            "binValue is ['', '', '', '0000', '']\n"
          ]
        },
        {
          "output_type": "execute_result",
          "data": {
            "text/plain": [
              "4"
            ]
          },
          "metadata": {},
          "execution_count": 52
        }
      ]
    },
    {
      "cell_type": "code",
      "source": [],
      "metadata": {
        "id": "Q46Pplqafg1I"
      },
      "execution_count": null,
      "outputs": []
    },
    {
      "cell_type": "code",
      "source": [],
      "metadata": {
        "id": "lIpDA0D_fg3e"
      },
      "execution_count": null,
      "outputs": []
    }
  ]
}