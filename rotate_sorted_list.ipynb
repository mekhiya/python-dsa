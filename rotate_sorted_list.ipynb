{
  "nbformat": 4,
  "nbformat_minor": 0,
  "metadata": {
    "colab": {
      "provenance": [],
      "authorship_tag": "ABX9TyOnEFpg8ASVqGtJPavb4GPS",
      "include_colab_link": true
    },
    "kernelspec": {
      "name": "python3",
      "display_name": "Python 3"
    },
    "language_info": {
      "name": "python"
    }
  },
  "cells": [
    {
      "cell_type": "markdown",
      "metadata": {
        "id": "view-in-github",
        "colab_type": "text"
      },
      "source": [
        "<a href=\"https://colab.research.google.com/github/mekhiya/python-dsa/blob/main/rotate_sorted_list.ipynb\" target=\"_parent\"><img src=\"https://colab.research.google.com/assets/colab-badge.svg\" alt=\"Open In Colab\"/></a>"
      ]
    },
    {
      "cell_type": "code",
      "execution_count": null,
      "metadata": {
        "id": "PaA7mjRw684u"
      },
      "outputs": [],
      "source": [
        "# rotate list [1,3,4,5,7] after roate [3,4,5,7,1]\n",
        "# sort list [3,4,5,7,1] find how many numbers to pic kfrom last & place in front\n",
        "\n",
        "'''\n",
        "brute force way\n",
        "\n",
        "last item should be biggest\n",
        "first item shoud be smallest\n",
        "\n",
        "[1,2,3,4,5,6,7] roateted 3 times, gives [5,6,7,1,2,3,4,] smallest number '1' is at position 3\n",
        "[1,2,3,4,5,6,7] roateted 2 times, gives [6,7,1,2,3,4,5] smallest number '1' is at position 2\n",
        "\n",
        "hence number of times rotated = position of smallest number\n",
        "\n",
        "all value[n] should be < value[n-1]\n",
        "except when list is rotated & big number comes before smallest number\n",
        "\n",
        "so if we run for loop, find smallest number (when value[n] < value[n+1] )\n",
        "position of smallest number = no. of times list was rotated\n",
        "\n",
        "\n",
        "  possible input lists\n",
        "\n",
        "  empty list\n",
        "  list with just 1 item\n",
        "  10 items, rotated 3 times\n",
        "  10 items rotated 9 times\n",
        "\n",
        "'''"
      ]
    },
    {
      "cell_type": "code",
      "source": [
        "def find_rotation_number_sorted_list(cards):\n",
        "  for i in range(len(cards)-1):\n",
        "    print(i)\n",
        "    if cards[i] > cards[i+1]:\n",
        "      print(f\"smallest number at position {i+1}\")\n",
        "      print(f\"list rotated {i+1} times\")\n",
        "      return i+1\n",
        "\n",
        "  print(\"list not rotated\")\n",
        "  return -1"
      ],
      "metadata": {
        "id": "57g0q1DS8fiK"
      },
      "execution_count": null,
      "outputs": []
    },
    {
      "cell_type": "code",
      "source": [
        "find_rotation_number_sorted_list([1,2,3,4, 5, 6])"
      ],
      "metadata": {
        "colab": {
          "base_uri": "https://localhost:8080/"
        },
        "id": "aJUHUd8U8ffC",
        "outputId": "afbe0ee7-57d3-4a95-c9b9-d5a33c206b6c"
      },
      "execution_count": null,
      "outputs": [
        {
          "output_type": "stream",
          "name": "stdout",
          "text": [
            "list not rotated\n"
          ]
        },
        {
          "output_type": "execute_result",
          "data": {
            "text/plain": [
              "-1"
            ]
          },
          "metadata": {},
          "execution_count": 16
        }
      ]
    },
    {
      "cell_type": "code",
      "source": [
        "find_rotation_number_sorted_list([8, 7, 1,2,3,4, 5, 6])"
      ],
      "metadata": {
        "colab": {
          "base_uri": "https://localhost:8080/"
        },
        "id": "xGuRMjZf8fb0",
        "outputId": "373c30a6-de42-4eed-f770-aea23e16b8e3"
      },
      "execution_count": null,
      "outputs": [
        {
          "output_type": "stream",
          "name": "stdout",
          "text": [
            "smallest number at position 1\n",
            "list rotated 1 times\n"
          ]
        },
        {
          "output_type": "execute_result",
          "data": {
            "text/plain": [
              "1"
            ]
          },
          "metadata": {},
          "execution_count": 15
        }
      ]
    },
    {
      "cell_type": "code",
      "source": [
        "def bin_rotated_sort_list(cards):\n",
        "  numOfCards = len(cards)\n",
        "  start, end = 0, numOfCards-1\n",
        "  # if len(cards) == 0:\n",
        "  #   print(\"Empty list\")\n",
        "  # elif len(cards) == 1:\n",
        "  #   print(\"single item\")\n",
        "  # else:\n",
        "  while start <= end-1:\n",
        "    mid = (start + end) // 2\n",
        "    mid_value = cards[mid]\n",
        "    print(f\"start, end, mid are {start, end, mid}\")\n",
        "\n",
        "    if mid_value > cards[mid+1]:\n",
        "      print(f\"found smallest num at position {mid+1}\")\n",
        "      print(f\"list rotated {mid+1} times\")\n",
        "      return mid+1\n",
        "    elif mid_value < cards[numOfCards-1]:\n",
        "      # [7,8,9,1,2,3,4,5,6] mid value '2' smaller then last item\n",
        "      # smallest number is on left\n",
        "      end = mid - 1\n",
        "    elif mid_value > cards[numOfCards-1]:\n",
        "      # [5,6,7,8,9,1,2,3,4] mid value '9' bigger then last item\n",
        "      # smallest number is on right\n",
        "      start = mid + 1\n",
        "\n",
        "  # not rotated\n",
        "  return -1"
      ],
      "metadata": {
        "id": "UQWNUQNG8fQR"
      },
      "execution_count": null,
      "outputs": []
    },
    {
      "cell_type": "code",
      "source": [
        "bin_rotated_sort_list([7,8,9,1,2,3,4,5,6])"
      ],
      "metadata": {
        "colab": {
          "base_uri": "https://localhost:8080/"
        },
        "id": "AqEzmeqJK2z0",
        "outputId": "6c190668-a668-4f63-b080-9954d8348394"
      },
      "execution_count": null,
      "outputs": [
        {
          "output_type": "stream",
          "name": "stdout",
          "text": [
            "start, end, mid are (0, 8, 4)\n",
            "start, end, mid are (0, 3, 1)\n",
            "start, end, mid are (2, 3, 2)\n",
            "found smallest num at position 3\n",
            "list rotated 3 times\n"
          ]
        },
        {
          "output_type": "execute_result",
          "data": {
            "text/plain": [
              "3"
            ]
          },
          "metadata": {},
          "execution_count": 80
        }
      ]
    },
    {
      "cell_type": "code",
      "source": [
        "bin_rotated_sort_list([5,6,7,8,9,1,2,3,4])"
      ],
      "metadata": {
        "colab": {
          "base_uri": "https://localhost:8080/"
        },
        "id": "a7E9Ou4MK2xg",
        "outputId": "98b48093-6293-470e-eb7e-b987a7bcece6"
      },
      "execution_count": null,
      "outputs": [
        {
          "output_type": "stream",
          "name": "stdout",
          "text": [
            "start, end, mid are (0, 8, 4)\n",
            "found smallest num at position 5\n",
            "list rotated 5 times\n"
          ]
        },
        {
          "output_type": "execute_result",
          "data": {
            "text/plain": [
              "5"
            ]
          },
          "metadata": {},
          "execution_count": 81
        }
      ]
    },
    {
      "cell_type": "code",
      "source": [
        "bin_rotated_sort_list([])"
      ],
      "metadata": {
        "colab": {
          "base_uri": "https://localhost:8080/"
        },
        "id": "BjxA6lRAK2ui",
        "outputId": "0ae9ac1a-d471-472c-c37e-98f4c02637ac"
      },
      "execution_count": null,
      "outputs": [
        {
          "output_type": "execute_result",
          "data": {
            "text/plain": [
              "-1"
            ]
          },
          "metadata": {},
          "execution_count": 82
        }
      ]
    },
    {
      "cell_type": "code",
      "source": [
        "bin_rotated_sort_list([1])"
      ],
      "metadata": {
        "colab": {
          "base_uri": "https://localhost:8080/"
        },
        "id": "9DwC7cBlK2rt",
        "outputId": "da82c9e8-8cfe-4bbf-92fb-af65967d45de"
      },
      "execution_count": null,
      "outputs": [
        {
          "output_type": "execute_result",
          "data": {
            "text/plain": [
              "-1"
            ]
          },
          "metadata": {},
          "execution_count": 83
        }
      ]
    },
    {
      "cell_type": "code",
      "source": [
        "bin_rotated_sort_list([2,1])"
      ],
      "metadata": {
        "colab": {
          "base_uri": "https://localhost:8080/"
        },
        "id": "_g838kAWK2ob",
        "outputId": "aec02e23-bc3f-4a25-f4f1-0145075edaad"
      },
      "execution_count": null,
      "outputs": [
        {
          "output_type": "stream",
          "name": "stdout",
          "text": [
            "start, end, mid are (0, 1, 0)\n",
            "found smallest num at position 1\n",
            "list rotated 1 times\n"
          ]
        },
        {
          "output_type": "execute_result",
          "data": {
            "text/plain": [
              "1"
            ]
          },
          "metadata": {},
          "execution_count": 84
        }
      ]
    },
    {
      "cell_type": "code",
      "source": [
        "## Handle repeating numbers in rotated sorted list"
      ],
      "metadata": {
        "id": "vrdCQwWNK2la"
      },
      "execution_count": null,
      "outputs": []
    },
    {
      "cell_type": "code",
      "source": [
        "# rotated sorted list...\n",
        "'''\n",
        "binary search\n",
        "smallet number will have n bigger than n+1 situation\n",
        "smallest number position = number of times rotated\n",
        "in bin search, right most can be bigger or smaller..\n",
        "  if bigger means right side is proper ascendeing\n",
        "\n",
        "  # [7,8,9,1,2,3,4,5,6] mid value '2' smaller then last item\n",
        "      # smallest number is on left\n",
        "      end = mid - 1\n",
        "\n",
        "  # [5,6,7,8,9,1,2,3,4] mid value '9' bigger then last item\n",
        "      # smallest number is on right\n",
        "\n",
        "\n",
        "'''"
      ],
      "metadata": {
        "id": "RwmZoxqeSy0l"
      },
      "execution_count": null,
      "outputs": []
    },
    {
      "cell_type": "code",
      "source": [
        "def bin_rotated_sorted_list(cards):\n",
        "  start, end = 0, len(cards)-1\n",
        "  if len(cards) <= 1:\n",
        "    return -1\n",
        "  else:\n",
        "    while start <= end:\n",
        "      mid = (start+end)//2\n",
        "      mid_value = cards[mid]\n",
        "      print(f\"start is {start}, end is {end}, mid is {mid}, mid_value is {mid_value}\")\n",
        "      if mid_value > cards[mid+1]:\n",
        "        print(f\"found smallest number {cards[mid+1]} at position {mid+1}\")\n",
        "        return mid+1\n",
        "      elif mid_value < cards[-1]:\n",
        "        print(\"smallest on left\")\n",
        "        end = mid-1\n",
        "      elif mid_value > cards[-1]:\n",
        "        print(\"smallest on right\")\n",
        "        start = mid+1\n",
        "\n",
        "  print(\"already sorted, no rotation\")\n",
        "  return -1"
      ],
      "metadata": {
        "id": "3V1IE1OqSyxq"
      },
      "execution_count": 30,
      "outputs": []
    },
    {
      "cell_type": "code",
      "source": [
        "bin_rotated_sorted_list([1,2,3,4,5,6,7])"
      ],
      "metadata": {
        "colab": {
          "base_uri": "https://localhost:8080/"
        },
        "id": "DkpvIOdXEYU5",
        "outputId": "dc864572-8697-4da9-d356-0e31a86dda02"
      },
      "execution_count": 22,
      "outputs": [
        {
          "output_type": "stream",
          "name": "stdout",
          "text": [
            "start is 0, end is 6, mid is 3, mid_value is 4\n",
            "smallest on left\n",
            "start is 0, end is 2, mid is 1, mid_value is 2\n",
            "smallest on left\n",
            "start is 0, end is 0, mid is 0, mid_value is 1\n",
            "smallest on left\n",
            "already sorted, no rotation\n"
          ]
        },
        {
          "output_type": "execute_result",
          "data": {
            "text/plain": [
              "-1"
            ]
          },
          "metadata": {},
          "execution_count": 22
        }
      ]
    },
    {
      "cell_type": "code",
      "source": [
        "bin_rotated_sorted_list([1,2])"
      ],
      "metadata": {
        "colab": {
          "base_uri": "https://localhost:8080/"
        },
        "id": "_Y6xWfu3EYSW",
        "outputId": "4f5e2d64-4e3c-43eb-b22a-fd8bba87d393"
      },
      "execution_count": 34,
      "outputs": [
        {
          "output_type": "stream",
          "name": "stdout",
          "text": [
            "start is 0, end is 1, mid is 0, mid_value is 1\n",
            "smallest on left\n",
            "already sorted, no rotation\n"
          ]
        },
        {
          "output_type": "execute_result",
          "data": {
            "text/plain": [
              "-1"
            ]
          },
          "metadata": {},
          "execution_count": 34
        }
      ]
    },
    {
      "cell_type": "code",
      "source": [
        "# copied online\n",
        "def search(nums, target):\n",
        "  low = 0\n",
        "  high = len(nums)\n",
        "  while low<high:\n",
        "    mid = low + (high-low)//2\n",
        "    if nums[mid] == target:\n",
        "        return mid\n",
        "    if nums[low]<=nums[mid]:\n",
        "        if target >=nums[low] and target <nums[mid]:\n",
        "          high = mid\n",
        "        else:\n",
        "          low = mid+1\n",
        "    else:\n",
        "        if target<=nums[high-1] and target>nums[mid]:\n",
        "          low = mid+1\n",
        "        else:\n",
        "          high = mid\n",
        "  return -1"
      ],
      "metadata": {
        "id": "9jQ4HpVtEYO_"
      },
      "execution_count": 3,
      "outputs": []
    },
    {
      "cell_type": "code",
      "source": [
        "# find soem number inside rotated sorted list\n",
        "# find 3 in [7,8,9,1,2,3,4,5,6]\n",
        "\n",
        "'''\n",
        "first while loop to find smallest number\n",
        "find smallest number\n",
        "num to find is either left side or right side\n",
        "NEW WHILE LOOP ???\n",
        "accordingly mark start & end rest same..\n",
        "\n",
        "'''\n",
        "search([7,8,9,1,2,3,4,5,6], 2)"
      ],
      "metadata": {
        "colab": {
          "base_uri": "https://localhost:8080/"
        },
        "id": "U6-qLZNEEYMP",
        "outputId": "3471c78e-48f8-45d8-d7ae-624024297623"
      },
      "execution_count": 5,
      "outputs": [
        {
          "output_type": "execute_result",
          "data": {
            "text/plain": [
              "4"
            ]
          },
          "metadata": {},
          "execution_count": 5
        }
      ]
    },
    {
      "cell_type": "code",
      "source": [
        "# copied\n",
        "\n",
        "def search_in_rotated_sorted(nums, target):\n",
        "  start, end = 0, len(nums)-1\n",
        "  mid = 0\n",
        "\n",
        "  while start < end:\n",
        "    mid = start + (end-start) // 2\n",
        "    print(f\"POS - start is {start}, end is {end}, mid is {mid}\")\n",
        "    print(f\"Val - startV is {nums[start]}, endv is {nums[end]}, midv is {nums[mid]}\")\n",
        "\n",
        "    if target == nums[mid]:\n",
        "      return mid\n",
        "    if nums[start] < nums[mid]:\n",
        "      print(\"left side is sorted\")\n",
        "      if target >= nums[start] and target < nums[mid]:\n",
        "        print(\"within left sorted side\")\n",
        "        end = mid\n",
        "      else:\n",
        "        start =  mid + 1\n",
        "    else:\n",
        "      print(\"right side is sorted\")\n",
        "      if target <= nums[end] and target > nums[mid]:\n",
        "        print(\"within right sorted side\")\n",
        "        start = mid + 1\n",
        "      else:\n",
        "        end = mid\n",
        "\n",
        "  return -1"
      ],
      "metadata": {
        "id": "_GxlFcK5EX0s"
      },
      "execution_count": 28,
      "outputs": []
    },
    {
      "cell_type": "code",
      "source": [
        "search_in_rotated_sorted([9,10,1,2,3,4,5,6,7,8], 7)"
      ],
      "metadata": {
        "id": "whEJDGs0Syuj",
        "colab": {
          "base_uri": "https://localhost:8080/"
        },
        "outputId": "0bd013d4-4ffa-473d-ac86-c993a3c8a616"
      },
      "execution_count": 29,
      "outputs": [
        {
          "output_type": "stream",
          "name": "stdout",
          "text": [
            "POS - start is 0, end is 9, mid is 4\n",
            "Val - startV is 9, endv is 8, midv is 3\n",
            "right side is sorted\n",
            "within right sorted side\n",
            "POS - start is 5, end is 9, mid is 7\n",
            "Val - startV is 4, endv is 8, midv is 6\n",
            "left side is sorted\n",
            "POS - start is 8, end is 9, mid is 8\n",
            "Val - startV is 7, endv is 8, midv is 7\n"
          ]
        },
        {
          "output_type": "execute_result",
          "data": {
            "text/plain": [
              "8"
            ]
          },
          "metadata": {},
          "execution_count": 29
        }
      ]
    },
    {
      "cell_type": "code",
      "source": [
        "search_in_rotated_sorted([7,8], 8)"
      ],
      "metadata": {
        "colab": {
          "base_uri": "https://localhost:8080/"
        },
        "id": "urHHxr0oWE39",
        "outputId": "e3cae9ef-8c5e-44fe-913f-34521af040e7"
      },
      "execution_count": 15,
      "outputs": [
        {
          "output_type": "execute_result",
          "data": {
            "text/plain": [
              "-1"
            ]
          },
          "metadata": {},
          "execution_count": 15
        }
      ]
    },
    {
      "cell_type": "code",
      "source": [
        "def search_in_rotate_sort(nums, target):\n",
        "  start,end = 0, len(nums)\n",
        "\n",
        "\n",
        "  while start < end:\n",
        "    mid = start + (end-start) // 2\n",
        "    mid_value = nums[mid]\n",
        "    if mid_value == target:\n",
        "      return mid\n",
        "    if nums[start] <= mid_value:\n",
        "      print(\"left side is sorted correctly\")\n",
        "      # check if number inside here\n",
        "      if (target >= nums[start] and target < mid_value):\n",
        "        end = mid\n",
        "      else:\n",
        "        start = mid + 1\n",
        "    else:\n",
        "      print(\"right side is sorted correctly\")\n",
        "      if target > mid_value  and target <= nums[end-1]:\n",
        "        start = mid\n",
        "      else:\n",
        "        end = mid - 1\n",
        "\n",
        "  print(\"Target not found\")\n",
        "  return -1"
      ],
      "metadata": {
        "id": "bK3t0nWXWE0c"
      },
      "execution_count": 49,
      "outputs": []
    },
    {
      "cell_type": "code",
      "source": [
        " search_in_rotate_sort([7,8,1,2,3,4,5,6], 7)"
      ],
      "metadata": {
        "colab": {
          "base_uri": "https://localhost:8080/"
        },
        "id": "Fg6iNDJ1WExX",
        "outputId": "866bf874-4167-49d1-ab6d-e1885574d3b2"
      },
      "execution_count": 50,
      "outputs": [
        {
          "output_type": "stream",
          "name": "stdout",
          "text": [
            "right side is sorted correctly\n",
            "left side is sorted correctly\n"
          ]
        },
        {
          "output_type": "execute_result",
          "data": {
            "text/plain": [
              "0"
            ]
          },
          "metadata": {},
          "execution_count": 50
        }
      ]
    },
    {
      "cell_type": "markdown",
      "source": [
        "## does not work in corner cases"
      ],
      "metadata": {
        "id": "1syprh3RsKTd"
      }
    },
    {
      "cell_type": "code",
      "source": [
        "def find_num_in_rotated_sort_list(nums, target):\n",
        "  start, end = 0, len(nums)-1\n",
        "\n",
        "  while start < end:\n",
        "    mid = start + (end-start) // 2\n",
        "    mid_value = nums[mid]\n",
        "\n",
        "    if mid_value == target:\n",
        "      return mid\n",
        "    if nums[start] <= mid_value:\n",
        "      print(\"left side is sorted correctly\")\n",
        "      if target >= nums[start] and target < mid_value:\n",
        "        end = mid\n",
        "      else:\n",
        "        start = mid + 1\n",
        "    else:\n",
        "      print(\"right side is sorted correctly\")\n",
        "      if target > mid_value and target <= nums[end-1]:\n",
        "        start = mid + 1\n",
        "      else:\n",
        "        end = mid\n",
        "\n",
        "  print(\"target not found\")\n",
        "  return -1"
      ],
      "metadata": {
        "id": "WXNu72epWEuT"
      },
      "execution_count": 63,
      "outputs": []
    },
    {
      "cell_type": "code",
      "source": [
        "find_num_in_rotated_sort_list([7,8,9,1,2,3,4,5,6], 3)"
      ],
      "metadata": {
        "colab": {
          "base_uri": "https://localhost:8080/"
        },
        "id": "CauckqP4WErh",
        "outputId": "bf3cb031-7ced-41b6-a7f4-2e4fe2275575"
      },
      "execution_count": 66,
      "outputs": [
        {
          "output_type": "stream",
          "name": "stdout",
          "text": [
            "right side is sorted correctly\n",
            "left side is sorted correctly\n"
          ]
        },
        {
          "output_type": "execute_result",
          "data": {
            "text/plain": [
              "5"
            ]
          },
          "metadata": {},
          "execution_count": 66
        }
      ]
    },
    {
      "cell_type": "code",
      "source": [],
      "metadata": {
        "id": "jtkwloXOWEon"
      },
      "execution_count": null,
      "outputs": []
    },
    {
      "cell_type": "code",
      "source": [],
      "metadata": {
        "id": "KC-S-osKWElp"
      },
      "execution_count": null,
      "outputs": []
    },
    {
      "cell_type": "code",
      "source": [],
      "metadata": {
        "id": "OEn2d-6ZWEif"
      },
      "execution_count": null,
      "outputs": []
    },
    {
      "cell_type": "code",
      "source": [],
      "metadata": {
        "id": "qyxRKoRlWEfL"
      },
      "execution_count": null,
      "outputs": []
    }
  ]
}